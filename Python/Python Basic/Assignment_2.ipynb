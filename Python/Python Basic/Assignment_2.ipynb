{
 "cells": [
  {
   "attachments": {},
   "cell_type": "markdown",
   "metadata": {},
   "source": [
    "# **Python Basic: Assignment_2 ▶**"
   ]
  },
  {
   "attachments": {},
   "cell_type": "markdown",
   "metadata": {},
   "source": [
    "***********************************************************"
   ]
  },
  {
   "attachments": {},
   "cell_type": "markdown",
   "metadata": {},
   "source": [
    "**1.What are the two values of the Boolean data type? How do you write them?**"
   ]
  },
  {
   "attachments": {},
   "cell_type": "markdown",
   "metadata": {},
   "source": [
    "The two values of the Boolean data type are True and False. They are written as **'True'** and **'False'**."
   ]
  },
  {
   "attachments": {},
   "cell_type": "markdown",
   "metadata": {},
   "source": [
    "**2. What are the three different types of Boolean operators?**"
   ]
  },
  {
   "attachments": {},
   "cell_type": "markdown",
   "metadata": {},
   "source": [
    "The three different types of Boolean operators are AND, OR, and NOT."
   ]
  },
  {
   "attachments": {},
   "cell_type": "markdown",
   "metadata": {},
   "source": [
    "**3. Make a list of each Boolean operator's truth tables (i.e. every possible combination of Boolean\n",
    "values for the operator and what it evaluate ).**"
   ]
  },
  {
   "attachments": {},
   "cell_type": "markdown",
   "metadata": {},
   "source": [
    "****AND** truth table:**\n",
    "\n",
    "```python\n",
    "True and True = True\n",
    "True and False = False\n",
    "False and True = False\n",
    "False and False = False\n",
    "```\n",
    "\n",
    "****OR** truth table:**\n",
    "\n",
    "```python\n",
    "True or True = True\n",
    "True or False = True\n",
    "False or True = True\n",
    "```\n",
    "\n",
    "False or False = False\n",
    "\n",
    "****NOT** truth table:**\n",
    "\n",
    "```python\n",
    "Not True = False\n",
    "Not False = True\n",
    "```"
   ]
  },
  {
   "attachments": {},
   "cell_type": "markdown",
   "metadata": {},
   "source": [
    "**4. What are the values of the following expressions?**\n",
    "\n",
    "```python\n",
    "(5 > 4) and (3 == 5)\n",
    "not (5 > 4)\n",
    "(5 > 4) or (3 == 5)\n",
    "not ((5 > 4) or (3 == 5))\n",
    "(True and True) and (True == False)\n",
    "(not False) or (not True)\n",
    "```"
   ]
  },
  {
   "cell_type": "code",
   "execution_count": 12,
   "metadata": {},
   "outputs": [
    {
     "name": "stdout",
     "output_type": "stream",
     "text": [
      "(5 > 4) and (3 == 5) : False\n",
      "not (5 > 4) : False\n",
      "(5 > 4) or (3 == 5) : True\n",
      "not ((5 > 4) or (3 == 5)) : False\n",
      "(True and True) and (True == False) : False\n",
      "(not False) or (not True) : True\n"
     ]
    }
   ],
   "source": [
    "print(\"(5 > 4) and (3 == 5) :\",(5 > 4) and (3 == 5))\n",
    "\n",
    "print (\"not (5 > 4) :\", not (5 > 4))\n",
    "\n",
    "print(\"(5 > 4) or (3 == 5) :\",(5 > 4) or (3 == 5))\n",
    "\n",
    "print(\"not ((5 > 4) or (3 == 5)) :\",not ((5 > 4) or (3 == 5)))\n",
    "\n",
    "print(\"(True and True) and (True == False) :\",(True and True) and (True == False))\n",
    "\n",
    "print(\"(not False) or (not True) :\",(not False) or (not True))"
   ]
  },
  {
   "attachments": {},
   "cell_type": "markdown",
   "metadata": {},
   "source": [
    "**5. What are the six comparison operators?**"
   ]
  },
  {
   "attachments": {},
   "cell_type": "markdown",
   "metadata": {},
   "source": [
    "comparison operators are: \n",
    "\n",
    "```python\n",
    "== (equal to)\n",
    "\n",
    "!= (not equal to)\n",
    "\n",
    "> (greater than)\n",
    "\n",
    "< (less than)\n",
    "\n",
    ">= (greater than or equal to)\n",
    "\n",
    "<= (less than or equal to)\n",
    "```"
   ]
  },
  {
   "attachments": {},
   "cell_type": "markdown",
   "metadata": {},
   "source": [
    "**6. How do you tell the difference between the equal to and assignment operators?Describe a\n",
    "condition and when you would use one.**"
   ]
  },
  {
   "attachments": {},
   "cell_type": "markdown",
   "metadata": {},
   "source": [
    "The equal to operator is written as == and is used to compare whether two values are equal. The assignment operator is written as = and is used to assign a value to a variable. \n",
    "\n",
    "For example, \n",
    "\n",
    "Check if a variable x is equal to 5\n",
    "\n",
    "```python\n",
    "x == 5\n",
    "```\n",
    "\n",
    "Assign the value 5 to a variable x, \n",
    "\n",
    "```python\n",
    "x=5\n",
    "```"
   ]
  },
  {
   "attachments": {},
   "cell_type": "markdown",
   "metadata": {},
   "source": [
    "**7. Identify the three blocks in this code:\n",
    "\n",
    "```python\n",
    "spam = 0\n",
    "if spam == 10:\n",
    "print('eggs')\n",
    "if spam > 5:\n",
    "print('bacon')\n",
    "else:\n",
    "print('ham')\n",
    "print('spam')\n",
    "print('spam')\n",
    "```\n"
   ]
  },
  {
   "attachments": {},
   "cell_type": "markdown",
   "metadata": {},
   "source": [
    "**The three blocks in this code are:**\n",
    "```python\n",
    "1.if spam == 10: print('eggs')\n",
    "2.if spam > 5: print('bacon')\n",
    "3.else:\n",
    "print('ham')\n",
    "print('spam')\n",
    "print('spam')\n",
    "```\n"
   ]
  },
  {
   "attachments": {},
   "cell_type": "markdown",
   "metadata": {},
   "source": [
    "**8. Write code that prints Hello if 1 is stored in spam, prints Howdy if 2 is stored in spam, and prints\n",
    "Greetings! if anything else is stored in spam.**"
   ]
  },
  {
   "cell_type": "code",
   "execution_count": 14,
   "metadata": {},
   "outputs": [
    {
     "name": "stdout",
     "output_type": "stream",
     "text": [
      "Howdy\n"
     ]
    }
   ],
   "source": [
    "spam = 2\n",
    "\n",
    "if spam == 1:\n",
    "    print('Hello')\n",
    "elif spam == 2:\n",
    "    print('Howdy')\n",
    "else:\n",
    "    print('Greetings!')\n"
   ]
  },
  {
   "attachments": {},
   "cell_type": "markdown",
   "metadata": {},
   "source": [
    "**9.If your programme is stuck in an endless loop, what keys you’ll press?**"
   ]
  },
  {
   "cell_type": "markdown",
   "metadata": {},
   "source": [
    "If your program is stuck in an endless loop, you can press Ctrl + C to stop the program."
   ]
  },
  {
   "attachments": {},
   "cell_type": "markdown",
   "metadata": {},
   "source": [
    "**10. How can you tell the difference between break and continue?**"
   ]
  },
  {
   "attachments": {},
   "cell_type": "markdown",
   "metadata": {},
   "source": [
    "The break statement is used to exit out of a loop completely, while the continue statement is used to skip the current iteration of the loop and move on to the next one."
   ]
  },
  {
   "attachments": {},
   "cell_type": "markdown",
   "metadata": {},
   "source": [
    "**11. In a for loop, what is the difference between range(10), range(0, 10), and range(0, 10, 1)?**"
   ]
  },
  {
   "attachments": {},
   "cell_type": "markdown",
   "metadata": {},
   "source": [
    "range(10) and range(0, 10) both generate a sequence of numbers from 0 to 9. The difference is that range(10) starts from 0 by default, while range(0, 10) explicitly specifies the starting point as 0. range(0, 10, 1) also generates a sequence of numbers from 0 to 9, but it explicitly specifies a step of 1 between each number."
   ]
  },
  {
   "attachments": {},
   "cell_type": "markdown",
   "metadata": {},
   "source": [
    "**12. Write a short program that prints the numbers 1 to 10 using a for loop. Then write an equivalent\n",
    "program that prints the numbers 1 to 10 using a while loop.**"
   ]
  },
  {
   "cell_type": "code",
   "execution_count": 15,
   "metadata": {},
   "outputs": [
    {
     "name": "stdout",
     "output_type": "stream",
     "text": [
      "1\n",
      "2\n",
      "3\n",
      "4\n",
      "5\n",
      "6\n",
      "7\n",
      "8\n",
      "9\n",
      "10\n"
     ]
    }
   ],
   "source": [
    "for i in range(1, 11):\n",
    "    print(i)"
   ]
  },
  {
   "cell_type": "code",
   "execution_count": 16,
   "metadata": {},
   "outputs": [
    {
     "name": "stdout",
     "output_type": "stream",
     "text": [
      "1\n",
      "2\n",
      "3\n",
      "4\n",
      "5\n",
      "6\n",
      "7\n",
      "8\n",
      "9\n",
      "10\n"
     ]
    }
   ],
   "source": [
    "i = 1\n",
    "while i <= 10:\n",
    "    print(i)\n",
    "    i += 1\n"
   ]
  },
  {
   "attachments": {},
   "cell_type": "markdown",
   "metadata": {},
   "source": [
    "**13. If you had a function named bacon() inside a module named spam, how would you call it after\n",
    "importing spam?**"
   ]
  },
  {
   "attachments": {},
   "cell_type": "markdown",
   "metadata": {},
   "source": [
    "If you had a function named bacon() inside a module named spam, you would call it after importing spam by writing spam.bacon()."
   ]
  },
  {
   "cell_type": "code",
   "execution_count": 22,
   "metadata": {},
   "outputs": [],
   "source": [
    "#Example\n",
    "\n",
    "#Assume that you have a module named \"spam.py\" \n",
    "\n",
    "def bacon():\n",
    "    print(\"I am bacon!\")"
   ]
  },
  {
   "cell_type": "code",
   "execution_count": 23,
   "metadata": {},
   "outputs": [
    {
     "ename": "ModuleNotFoundError",
     "evalue": "No module named 'spam'",
     "output_type": "error",
     "traceback": [
      "\u001b[1;31m---------------------------------------------------------------------------\u001b[0m",
      "\u001b[1;31mModuleNotFoundError\u001b[0m                       Traceback (most recent call last)",
      "Cell \u001b[1;32mIn[23], line 3\u001b[0m\n\u001b[0;32m      1\u001b[0m \u001b[39m#To use the \"bacon()\" function in another Python file, we would need to import the \"spam\" module first.\u001b[39;00m\n\u001b[1;32m----> 3\u001b[0m \u001b[39mimport\u001b[39;00m \u001b[39mspam\u001b[39;00m\n\u001b[0;32m      5\u001b[0m spam\u001b[39m.\u001b[39mbacon()\n",
      "\u001b[1;31mModuleNotFoundError\u001b[0m: No module named 'spam'"
     ]
    }
   ],
   "source": [
    "#To use the \"bacon()\" function in another Python file, we would need to import the \"spam\" module first.\n",
    "\n",
    "import spam\n",
    "\n",
    "spam.bacon()\n"
   ]
  }
 ],
 "metadata": {
  "kernelspec": {
   "display_name": "Python 3",
   "language": "python",
   "name": "python3"
  },
  "language_info": {
   "codemirror_mode": {
    "name": "ipython",
    "version": 3
   },
   "file_extension": ".py",
   "mimetype": "text/x-python",
   "name": "python",
   "nbconvert_exporter": "python",
   "pygments_lexer": "ipython3",
   "version": "3.11.1"
  },
  "orig_nbformat": 4
 },
 "nbformat": 4,
 "nbformat_minor": 2
}
