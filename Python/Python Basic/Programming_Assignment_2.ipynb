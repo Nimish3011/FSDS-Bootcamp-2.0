{
 "cells": [
  {
   "attachments": {},
   "cell_type": "markdown",
   "metadata": {},
   "source": [
    "# **Python Basic: Programming_Assignment_2 ▶**"
   ]
  },
  {
   "attachments": {},
   "cell_type": "markdown",
   "metadata": {},
   "source": [
    "**********************"
   ]
  },
  {
   "attachments": {},
   "cell_type": "markdown",
   "metadata": {},
   "source": [
    "**1. Write a Python program to convert kilometers to miles?**"
   ]
  },
  {
   "cell_type": "code",
   "execution_count": 1,
   "metadata": {},
   "outputs": [
    {
     "name": "stdout",
     "output_type": "stream",
     "text": [
      "Miles are : 1.2430080795525171\n"
     ]
    }
   ],
   "source": [
    " # Ask user to enter killometers\n",
    "\n",
    " KM = float(input(\"Enter Kilometers: \"))\n",
    "\n",
    " #Converting KM to Miles\n",
    "\n",
    " Miles = KM / 1.609\n",
    "\n",
    "\n",
    " #Print Miles\n",
    "\n",
    " print(f\"Miles are : {Miles}\")"
   ]
  },
  {
   "attachments": {},
   "cell_type": "markdown",
   "metadata": {},
   "source": [
    "**2. Write a Python program to convert Celsius to Fahrenheit?**"
   ]
  },
  {
   "cell_type": "code",
   "execution_count": 2,
   "metadata": {},
   "outputs": [
    {
     "name": "stdout",
     "output_type": "stream",
     "text": [
      "Celsius is 25.0\n",
      "Fahrenheit is 77.0\n"
     ]
    }
   ],
   "source": [
    " # Ask user to enter  Celsius\n",
    "\n",
    "Celsius = float(input(\"Enter  Celsius: \"))\n",
    "\n",
    " print(f\"Celsius is {Celsius}\")\n",
    "\n",
    " #Converting KM to Miles\n",
    "\n",
    "Fahrenheit =  Celsius * (9/5) +32\n",
    "\n",
    " #Print Fahrenheit \n",
    " \n",
    " print(f\"Fahrenheit is {Fahrenheit }\")"
   ]
  },
  {
   "attachments": {},
   "cell_type": "markdown",
   "metadata": {},
   "source": [
    "**3. Write a Python program to display calendar?**"
   ]
  },
  {
   "cell_type": "code",
   "execution_count": 3,
   "metadata": {},
   "outputs": [
    {
     "name": "stdout",
     "output_type": "stream",
     "text": [
      "    August 2021\n",
      "Mo Tu We Th Fr Sa Su\n",
      "                   1\n",
      " 2  3  4  5  6  7  8\n",
      " 9 10 11 12 13 14 15\n",
      "16 17 18 19 20 21 22\n",
      "23 24 25 26 27 28 29\n",
      "30 31\n",
      "\n"
     ]
    }
   ],
   "source": [
    "import calendar # importing calendar module\n",
    "\n",
    "#Ask user about year and month\n",
    "\n",
    "yy = int(input(\"Enter year: \"))\n",
    "mm = int(input(\"Enter month: \"))\n",
    "\n",
    "print(calendar.month(yy,mm)) # display the calendar"
   ]
  },
  {
   "attachments": {},
   "cell_type": "markdown",
   "metadata": {},
   "source": [
    "**4. Write a Python program to solve quadratic equation?**"
   ]
  },
  {
   "cell_type": "code",
   "execution_count": 5,
   "metadata": {},
   "outputs": [
    {
     "name": "stdout",
     "output_type": "stream",
     "text": [
      "The roots are (-0.25-1.1989578808281798j) 'and' (-0.25+1.1989578808281798j)\n"
     ]
    }
   ],
   "source": [
    "#Quadratic Equcation ax**2 + bx + c = 0 \n",
    "#a,b and c are real numbers\n",
    "#a!=0\n",
    "import cmath\n",
    "\n",
    "a = int(input(\"Enter number (a!=0): \"))\n",
    "b = int(input(\"Enter number: \"))\n",
    "c = int(input(\"Enter number: \"))\n",
    "\n",
    "#formula for discriminant\n",
    "\n",
    "d = (b**2) - (4*a*c)\n",
    "\n",
    "root1 = (-b-cmath.sqrt(d))/(2*a)\n",
    "root2 = (-b+cmath.sqrt(d))/(2*a)\n",
    "\n",
    "print(f\"The roots are {root1} 'and' {root2}\")"
   ]
  },
  {
   "attachments": {},
   "cell_type": "markdown",
   "metadata": {},
   "source": [
    "**5. Write a Python program to swap two variables without temp variable?**"
   ]
  },
  {
   "cell_type": "code",
   "execution_count": 4,
   "metadata": {},
   "outputs": [
    {
     "name": "stdout",
     "output_type": "stream",
     "text": [
      "Original values:\n",
      "Variable 1 = b\n",
      "Variable 2 = h\n",
      "Swapped values:\n",
      "Variable 1 = h\n",
      "Variable 2 = b\n"
     ]
    }
   ],
   "source": [
    "# Ask user for two variables\n",
    "\n",
    "var1 = input(\"Enter the first variable: \")\n",
    "var2 = input(\"Enter the second variable: \")\n",
    "\n",
    "#Original Values\n",
    "print(\"Original values:\")\n",
    "print(\"Variable 1 =\", var1)\n",
    "print(\"Variable 2 =\", var2)\n",
    "\n",
    "#Swap the values\n",
    "\n",
    "var1, var2 = var2,var1\n",
    "\n",
    "#Print Swapped valuess\n",
    "print(\"Swapped values:\")\n",
    "print(\"Variable 1 =\", var1)\n",
    "print(\"Variable 2 =\", var2)"
   ]
  }
 ],
 "metadata": {
  "kernelspec": {
   "display_name": "Python 3",
   "language": "python",
   "name": "python3"
  },
  "language_info": {
   "codemirror_mode": {
    "name": "ipython",
    "version": 3
   },
   "file_extension": ".py",
   "mimetype": "text/x-python",
   "name": "python",
   "nbconvert_exporter": "python",
   "pygments_lexer": "ipython3",
   "version": "3.11.1"
  },
  "orig_nbformat": 4
 },
 "nbformat": 4,
 "nbformat_minor": 2
}
