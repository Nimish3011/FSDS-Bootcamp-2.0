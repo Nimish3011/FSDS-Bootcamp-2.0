{
  "nbformat": 4,
  "nbformat_minor": 0,
  "metadata": {
    "colab": {
      "provenance": [],
      "authorship_tag": "ABX9TyNDvS5q52xgBU6j2o4mqaAj",
      "include_colab_link": true
    },
    "kernelspec": {
      "name": "python3",
      "display_name": "Python 3"
    },
    "language_info": {
      "name": "python"
    }
  },
  "cells": [
    {
      "cell_type": "markdown",
      "metadata": {
        "id": "view-in-github",
        "colab_type": "text"
      },
      "source": [
        "<a href=\"https://colab.research.google.com/github/Nimish3011/FSDS-Bootcamp-2.0/blob/main/PythonAssignmentNo1ipynb.ipynb\" target=\"_parent\"><img src=\"https://colab.research.google.com/assets/colab-badge.svg\" alt=\"Open In Colab\"/></a>"
      ]
    },
    {
      "cell_type": "code",
      "source": [
        "print(\"Hi There\")"
      ],
      "metadata": {
        "colab": {
          "base_uri": "https://localhost:8080/"
        },
        "id": "ixStVEM2icc7",
        "outputId": "e722da17-f2f8-44d9-bc40-f14792cb522c"
      },
      "execution_count": null,
      "outputs": [
        {
          "output_type": "stream",
          "name": "stdout",
          "text": [
            "Hi There\n"
          ]
        }
      ]
    },
    {
      "cell_type": "code",
      "source": [
        "print = \"Hi there\" # as a variable\n",
        "type(print)    "
      ],
      "metadata": {
        "colab": {
          "base_uri": "https://localhost:8080/"
        },
        "id": "JtQ7nQfEicae",
        "outputId": "e24af514-3396-4fea-b5f3-694c6cc25c90"
      },
      "execution_count": null,
      "outputs": [
        {
          "output_type": "execute_result",
          "data": {
            "text/plain": [
              "str"
            ]
          },
          "metadata": {},
          "execution_count": 3
        }
      ]
    },
    {
      "cell_type": "code",
      "source": [
        "print(\"Hi there\")"
      ],
      "metadata": {
        "colab": {
          "base_uri": "https://localhost:8080/",
          "height": 166
        },
        "id": "SOAlLz6TicY9",
        "outputId": "39bcabd1-d1db-4696-e43e-5bfd15671b61"
      },
      "execution_count": null,
      "outputs": [
        {
          "output_type": "error",
          "ename": "TypeError",
          "evalue": "ignored",
          "traceback": [
            "\u001b[0;31m---------------------------------------------------------------------------\u001b[0m",
            "\u001b[0;31mTypeError\u001b[0m                                 Traceback (most recent call last)",
            "\u001b[0;32m<ipython-input-4-67ee3d3b1c34>\u001b[0m in \u001b[0;36m<module>\u001b[0;34m\u001b[0m\n\u001b[0;32m----> 1\u001b[0;31m \u001b[0mprint\u001b[0m\u001b[0;34m(\u001b[0m\u001b[0;34m\"Hi there\"\u001b[0m\u001b[0;34m)\u001b[0m\u001b[0;34m\u001b[0m\u001b[0;34m\u001b[0m\u001b[0m\n\u001b[0m",
            "\u001b[0;31mTypeError\u001b[0m: 'str' object is not callable"
          ]
        }
      ]
    },
    {
      "cell_type": "markdown",
      "source": [
        "**Que 1:** Find out all the types of error that we have encountered in our lecture and why? Also include the examples.\n",
        "\n",
        "Answers:\n",
        "\n",
        "Error 1 : Encounterd with TypeError: 'str' object is not callable error.\n",
        "\n",
        "This error accoured when we used reserverd keywords or same varibale name to perform oprations.due to this python compiler get confused and generate an error: TypeError: 'str' object is not callable"
      ],
      "metadata": {
        "id": "GVM7kQRuimLv"
      }
    },
    {
      "cell_type": "code",
      "source": [
        "del print "
      ],
      "metadata": {
        "id": "3MgT2YNXi__6"
      },
      "execution_count": null,
      "outputs": []
    },
    {
      "cell_type": "code",
      "source": [
        "A = input(\"Enter value of A:\")\n",
        "B = input (\"Enter value of B:\")\n",
        "print (type(A),type(B))"
      ],
      "metadata": {
        "colab": {
          "base_uri": "https://localhost:8080/"
        },
        "id": "7wYLo0Z0icWy",
        "outputId": "bcd005b5-a261-41df-f9d6-634c99ecabdb"
      },
      "execution_count": null,
      "outputs": [
        {
          "output_type": "stream",
          "name": "stdout",
          "text": [
            "Enter value of A:25\n",
            "Enter value of B:25\n",
            "<class 'str'> <class 'str'>\n"
          ]
        }
      ]
    },
    {
      "cell_type": "code",
      "source": [
        "A = int(input(\"Enter value of A:\"))\n",
        "B = int(input(\"Enter value of B:\"))\n",
        "print (type(A),type(B))"
      ],
      "metadata": {
        "colab": {
          "base_uri": "https://localhost:8080/"
        },
        "id": "NCXbVrHbicTk",
        "outputId": "a08483ae-2b10-4ec8-baca-542b678dba89"
      },
      "execution_count": null,
      "outputs": [
        {
          "output_type": "stream",
          "name": "stdout",
          "text": [
            "Enter value of A:25\n",
            "Enter value of B:25\n",
            "<class 'int'> <class 'int'>\n"
          ]
        }
      ]
    },
    {
      "cell_type": "code",
      "source": [
        "A = int(input(\"Enter value of A:\")) \n",
        "B = float(input(\"Enter value of B:\"))\n",
        "print (type(A),type(B))\n"
      ],
      "metadata": {
        "colab": {
          "base_uri": "https://localhost:8080/",
          "height": 218
        },
        "id": "RrEVuDtMicRx",
        "outputId": "19b7aea0-4c2c-4e25-a449-9e1647ced0e3"
      },
      "execution_count": null,
      "outputs": [
        {
          "name": "stdout",
          "output_type": "stream",
          "text": [
            "Enter value of A:23.5\n"
          ]
        },
        {
          "output_type": "error",
          "ename": "ValueError",
          "evalue": "ignored",
          "traceback": [
            "\u001b[0;31m---------------------------------------------------------------------------\u001b[0m",
            "\u001b[0;31mValueError\u001b[0m                                Traceback (most recent call last)",
            "\u001b[0;32m<ipython-input-11-883894eb4832>\u001b[0m in \u001b[0;36m<module>\u001b[0;34m\u001b[0m\n\u001b[0;32m----> 1\u001b[0;31m \u001b[0mA\u001b[0m \u001b[0;34m=\u001b[0m \u001b[0mint\u001b[0m\u001b[0;34m(\u001b[0m\u001b[0minput\u001b[0m\u001b[0;34m(\u001b[0m\u001b[0;34m\"Enter value of A:\"\u001b[0m\u001b[0;34m)\u001b[0m\u001b[0;34m)\u001b[0m\u001b[0;34m\u001b[0m\u001b[0;34m\u001b[0m\u001b[0m\n\u001b[0m\u001b[1;32m      2\u001b[0m \u001b[0mB\u001b[0m \u001b[0;34m=\u001b[0m \u001b[0mfloat\u001b[0m\u001b[0;34m(\u001b[0m\u001b[0minput\u001b[0m\u001b[0;34m(\u001b[0m\u001b[0;34m\"Enter value of B:\"\u001b[0m\u001b[0;34m)\u001b[0m\u001b[0;34m)\u001b[0m\u001b[0;34m\u001b[0m\u001b[0;34m\u001b[0m\u001b[0m\n\u001b[1;32m      3\u001b[0m \u001b[0mprint\u001b[0m \u001b[0;34m(\u001b[0m\u001b[0mtype\u001b[0m\u001b[0;34m(\u001b[0m\u001b[0mA\u001b[0m\u001b[0;34m)\u001b[0m\u001b[0;34m,\u001b[0m\u001b[0mtype\u001b[0m\u001b[0;34m(\u001b[0m\u001b[0mB\u001b[0m\u001b[0;34m)\u001b[0m\u001b[0;34m)\u001b[0m\u001b[0;34m\u001b[0m\u001b[0;34m\u001b[0m\u001b[0m\n",
            "\u001b[0;31mValueError\u001b[0m: invalid literal for int() with base 10: '23.5'"
          ]
        }
      ]
    },
    {
      "cell_type": "markdown",
      "source": [
        "**Que 1.1**: Find out all the types of error that we have encountered in our lecture and why? Also include the examples.\n",
        "\n",
        "**Answers:**\n",
        "\n",
        "**Error 2** : **invalid literal for int() with base 10: '2.2'**\n",
        "\n",
        "An error occurred when we tried to convert a string, float, or int to an int, float, or string. The input provided by the user was not in the correct format for the desired data type.\n"
      ],
      "metadata": {
        "id": "Ly7TbpAsjVJz"
      }
    },
    {
      "cell_type": "markdown",
      "source": [
        "**Que 2**: Take input A and B and print their sum, mul, div, square of the nos."
      ],
      "metadata": {
        "id": "qmIl-u2CoTNT"
      }
    },
    {
      "cell_type": "code",
      "source": [
        "NUM1 = input(\"Enter value for num1: \")\n",
        "NUM2= input(\"Enter value for num2: \")\n",
        "SUM = int(NUM1) + int(NUM2)\n",
        "MUL = int(NUM1) * int(NUM2)\n",
        "DIV = int(NUM1) / int(NUM2)\n",
        "SQR = int(NUM1) ** 2"
      ],
      "metadata": {
        "colab": {
          "base_uri": "https://localhost:8080/"
        },
        "id": "sJdNRjDricM9",
        "outputId": "8010cd5d-bc3c-412d-b0f9-f5506ced4ccf"
      },
      "execution_count": null,
      "outputs": [
        {
          "name": "stdout",
          "output_type": "stream",
          "text": [
            "Enter value for num1: 5\n",
            "Enter value for num2: 3\n"
          ]
        }
      ]
    },
    {
      "cell_type": "code",
      "source": [
        "print(f\"Sum of {NUM1} and {NUM2} is {SUM}\")\n",
        "print(f\"MUL of {NUM1} and {NUM2} is {MUL}\")\n",
        "print(f\"DIV of {NUM1} and {NUM2} is {DIV}\")\n",
        "print(f\"Square of {NUM1} is {SQR}\")\n"
      ],
      "metadata": {
        "colab": {
          "base_uri": "https://localhost:8080/"
        },
        "id": "7KfZmaE0icKV",
        "outputId": "105793f6-5367-4d64-888e-ba88933c3430"
      },
      "execution_count": null,
      "outputs": [
        {
          "output_type": "stream",
          "name": "stdout",
          "text": [
            "Sum of 5 and 3 is 8\n",
            "MUL of 5 and 3 is 15\n",
            "DIV of 5 and 3 is 1.6666666666666667\n",
            "Square of 5 is 3125\n"
          ]
        }
      ]
    },
    {
      "cell_type": "markdown",
      "source": [
        "**QUE 3 : How many reserve keywords are there in python and why we should not use them as a variable name.**"
      ],
      "metadata": {
        "id": "9jEIGK5krX0P"
      }
    },
    {
      "cell_type": "markdown",
      "source": [
        "**Python have 33 reserve keywords:**\n",
        "\n",
        "**False/None/True/and/as/assert/break/class/continue/def/del/elif/else/except/finally/for/from/global/if/import/in/is/lambda/nonlocal/not/or/pass/raise/return/try/while/with/yield**\n",
        "\n",
        "Python will raise an syntax error or compiler may confused at the time of excauation if you try to used reserve keyword as a varibale name."
      ],
      "metadata": {
        "id": "lOb5OsbqrkiK"
      }
    },
    {
      "cell_type": "markdown",
      "source": [
        "**QUE 4: Create email ids with the user inputs. in the following format - lastname.firstname@gmail.com** "
      ],
      "metadata": {
        "id": "kOQWLkibrvgt"
      }
    },
    {
      "cell_type": "code",
      "source": [
        "fname = input(\"Enter your first name:\")\n",
        "lname = input(\"Enter your last name:\")\n",
        "print(f\"Email ID: {fname}.{lname}@gmail.com\")"
      ],
      "metadata": {
        "colab": {
          "base_uri": "https://localhost:8080/"
        },
        "id": "W-eHH3A6rzWR",
        "outputId": "66a2b272-b03f-473b-b173-18375069846a"
      },
      "execution_count": null,
      "outputs": [
        {
          "output_type": "stream",
          "name": "stdout",
          "text": [
            "Enter your first name:Yash\n",
            "Enter your last name:Raj\n",
            "Email ID: Yash.Raj@gmail.com\n"
          ]
        }
      ]
    },
    {
      "cell_type": "markdown",
      "source": [
        "**QUE 5: Try to print the following lines -\n",
        "Hi I'm Sunny\n",
        "My address is 22\\3\n",
        "I earn 20$ daily.**"
      ],
      "metadata": {
        "id": "bu-1B8q3qF1u"
      }
    },
    {
      "cell_type": "code",
      "source": [
        "name,address,sal=\"Yash\",\"25/5\",\"50\"\n",
        "print(f\"Hi i'm {name} My address is {address} I earn {sal}$ daily\")"
      ],
      "metadata": {
        "colab": {
          "base_uri": "https://localhost:8080/"
        },
        "id": "saXYOnPvicG8",
        "outputId": "f4158697-621e-43c5-9377-6f604ebaa816"
      },
      "execution_count": null,
      "outputs": [
        {
          "output_type": "stream",
          "name": "stdout",
          "text": [
            "Hi i'm Yash My address is 25/5 I earn 50$ daily\n"
          ]
        }
      ]
    },
    {
      "cell_type": "markdown",
      "source": [
        "**QUE 6: Take user input (name, address, date of birth etc) to fill a form for your college and print their email IDs**"
      ],
      "metadata": {
        "id": "QwAgkkGIsQnt"
      }
    },
    {
      "cell_type": "code",
      "source": [
        "name = input(\"Enter your name:\")\n",
        "address = input(\"Enter your address:\")\n",
        "dob =  input(\"Enter your date of birth:\")\n",
        "print(f\"Name is {name},Address is {address},DOB is {dob}\")\n",
        "print(f\"Email ID : {name}.{dob}@gmail.com\")"
      ],
      "metadata": {
        "colab": {
          "base_uri": "https://localhost:8080/"
        },
        "id": "I14pLGEyiTSB",
        "outputId": "0fc4283c-ebe8-4e95-c4c3-5abe5a64f0e1"
      },
      "execution_count": null,
      "outputs": [
        {
          "output_type": "stream",
          "name": "stdout",
          "text": [
            "Enter your name:yash\n",
            "Enter your address:sai\n",
            "Enter your date of birth:33370\n",
            "Name is yash,Address is sai,DOB is 33370\n",
            "Email ID : yash.33370@gmail.com\n"
          ]
        }
      ]
    },
    {
      "cell_type": "markdown",
      "source": [
        "**QUE 7: Convert the following -\n",
        "\"22.4\" into integer AND\n",
        "\"22\" into complex no.**"
      ],
      "metadata": {
        "id": "cUVJ23Lotpp5"
      }
    },
    {
      "cell_type": "code",
      "source": [
        "X = 22.4\n",
        "Y = int(X)\n",
        "print(type(X),type(Y))"
      ],
      "metadata": {
        "colab": {
          "base_uri": "https://localhost:8080/"
        },
        "id": "qoVeXEaZtzhL",
        "outputId": "22bd8048-a3cc-480f-89e3-771077c4bc92"
      },
      "execution_count": null,
      "outputs": [
        {
          "output_type": "stream",
          "name": "stdout",
          "text": [
            "<class 'float'> <class 'int'>\n"
          ]
        }
      ]
    },
    {
      "cell_type": "code",
      "source": [
        "X = 22\n",
        "Y = complex(X)\n",
        "print(type(X),type(Y))"
      ],
      "metadata": {
        "colab": {
          "base_uri": "https://localhost:8080/"
        },
        "id": "KnCOGwy-uHtv",
        "outputId": "3cfef208-366d-4343-f28c-72cf33e98deb"
      },
      "execution_count": null,
      "outputs": [
        {
          "output_type": "stream",
          "name": "stdout",
          "text": [
            "<class 'int'> <class 'complex'>\n"
          ]
        }
      ]
    },
    {
      "cell_type": "code",
      "source": [],
      "metadata": {
        "id": "I_mYE45rvdla"
      },
      "execution_count": null,
      "outputs": []
    }
  ]
}