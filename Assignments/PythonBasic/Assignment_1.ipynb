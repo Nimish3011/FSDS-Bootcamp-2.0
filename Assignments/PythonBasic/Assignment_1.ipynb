{
  "nbformat": 4,
  "nbformat_minor": 0,
  "metadata": {
    "colab": {
      "provenance": [],
      "toc_visible": true
    },
    "kernelspec": {
      "name": "python3",
      "display_name": "Python 3"
    },
    "language_info": {
      "name": "python"
    }
  },
  "cells": [
    {
      "cell_type": "markdown",
      "source": [
        "# **Python Basic: Assignment_1 ▶**"
      ],
      "metadata": {
        "id": "BopPkOAfb5Yy"
      }
    },
    {
      "cell_type": "markdown",
      "source": [
        "#**1. In the below elements which of them are values or an expression? eg:- values can be integer or string and expressions will be mathematical operators.**\n",
        "---\n",
        "> Given: \n",
        "*\n",
        "'hello'\n",
        "-87.8\n",
        "-\n",
        "/\n",
        "+\n",
        "6 "
      ],
      "metadata": {
        "id": "dhUdaF1YANlz"
      }
    },
    {
      "cell_type": "markdown",
      "source": [
        "*  '*' : Arithmatic multiplication operator \n",
        "*  'hello' : Its string value\n",
        "*   '-87.8' : Its float value\n",
        "*   '-' : Arithmatic Substraction operator \n",
        "*   '/' : Arithmatic Division operator\n",
        "*   '+' : Arithmatic Addition operator\n",
        "*   '6' : Its interger value "
      ],
      "metadata": {
        "id": "-BxArMBaBFnm"
      }
    },
    {
      "cell_type": "markdown",
      "source": [
        "# **2. What is the difference between string and variable?**\n",
        "\n",
        "**Ans**:\n",
        "    \n",
        "**String Vs Variable:**  \n",
        "* String is type of information would store in variable where Variable is stored information or refer as string or other datatype value but variable itself is not a string."
      ],
      "metadata": {
        "id": "gH5Vk5ZMC9Yt"
      }
    },
    {
      "cell_type": "markdown",
      "source": [
        "# **3. Describe three different data types.**\n",
        "**Ans:**\n",
        "* **string**: String is nothing but sequence of charater which is used to store and manipulate text in during bulding any projects.String value enclosed in \" \" or ' ' it can ber inclue char,number,symbol. \n",
        "* **interger** : Interger is a whole number.its store numerical data like (positive,negative,zero).\n",
        "* **boolean**: boolean is a value that can only be either true or false.it is mostly used to perform logical operations. "
      ],
      "metadata": {
        "id": "KfjGuXzpEF1Y"
      }
    },
    {
      "cell_type": "markdown",
      "source": [
        "# **4. What is an expression made up of? What do all expressions do?**\n",
        "\n",
        "**Ans:** expression is made up of one or more values,variable and operators.like 2 + 3 here 2 and 3 is value and '+' is arithmatic operator.when this expression is excauted, it produces the value \"5\".\n"
      ],
      "metadata": {
        "id": "sDcZ76H9OxVc"
      }
    },
    {
      "cell_type": "markdown",
      "source": [
        "# **5. This assignment statements, like spam = 10. What is the difference between an expression and a statement?**\n",
        "\n",
        "**Ans:** Expression is made up of one or more values,variable and operators.like 2 + 3 here 2 and 3 is value and '+' is arithmatic operator.when this expression is excauted, it produces the value \"5\".\n",
        "\n",
        "where statement is a unit of code that performs an action in program code.main difference between an expression and a statement is that an expression has a value, while a statement performs an action. "
      ],
      "metadata": {
        "id": "c64nOulVTHQ_"
      }
    },
    {
      "cell_type": "markdown",
      "source": [
        "#**6. After running the following code, what does the variable bacon contain?**\n",
        "\n",
        "bacon = 22\n",
        "\n",
        "bacon + 1\n",
        "\n",
        "**Ans:** After running the code, variable bacon stored the value 22.\n",
        "statement bacon + 1 is just an expression and it doesn't affect the value of the variable bacon. it just evaluates the value of the expression to 23, but it doesn't change the value of bacon.\n",
        "In order to change the value of the variable bacon, would need to use an assignment statement, like bacon = bacon + 1."
      ],
      "metadata": {
        "id": "8HmWnya1Uhyc"
      }
    },
    {
      "cell_type": "markdown",
      "source": [
        "#**7. What should the values of the following two terms be?**\n",
        "\n",
        "&#39;spam&#39; + &#39;spamspam&#39;\n",
        "\n",
        "&#39;spam&#39; * 3\n",
        "\n",
        "**Ans:** once we execute these two expression we get the value **sampsapmsapam** in output."
      ],
      "metadata": {
        "id": "nhW-RFBIVZuw"
      }
    },
    {
      "cell_type": "markdown",
      "source": [
        "# **8. Why is eggs a valid variable name while 100 is invalid?**\n",
        "\n",
        "**Ans:** In programming languages, variable names must start with a letter or an underscore, and it can be followed by any combination of letters, digits, and underscores. here name **\"eggs\" is a valid variable** name because i**t starts with a letter and is followed by letters**. \n",
        "In order to **\"100\" is not a valid variable** name because it starts with a digit and **its violates the naming conventions of programming languages**."
      ],
      "metadata": {
        "id": "XHLsOAMCW5X0"
      }
    },
    {
      "cell_type": "markdown",
      "source": [
        "# **9. What three functions can be used to get the integer, floating-point number, or string version of a value?**\n",
        "\n",
        "**Ans:** \n",
        "       \n",
        "\n",
        "1. str() : str function to get the string version of a value.\n",
        "2. int() : int function used to get the integer version of a value.\n",
        "3. float() : float function used to get the foating-point number version of a value.  "
      ],
      "metadata": {
        "id": "Qj6su_-fYRet"
      }
    },
    {
      "cell_type": "code",
      "source": [],
      "metadata": {
        "id": "Vi-LPsB1YY3Q"
      },
      "execution_count": null,
      "outputs": []
    },
    {
      "cell_type": "markdown",
      "source": [
        "# **10. Why does this expression cause an error? How can you fix it?**\n",
        "'I have eaten' + 99 + 'burritos.'\n",
        "\n",
        "**Ans:** This kind of expression always causes an error because it can't possible to use integer with an opreator for string concatenation operations. To fix this issue we would need to convert an integer value to a string."
      ],
      "metadata": {
        "id": "F5lShlmVank8"
      }
    },
    {
      "cell_type": "markdown",
      "source": [],
      "metadata": {
        "id": "hh7JU1XIbzE-"
      }
    }
  ]
}