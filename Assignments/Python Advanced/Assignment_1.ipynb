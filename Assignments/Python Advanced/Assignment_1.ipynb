{
 "cells": [
  {
   "attachments": {},
   "cell_type": "markdown",
   "metadata": {},
   "source": [
    "**Q1. What is the purpose of Python's OOP?**"
   ]
  },
  {
   "attachments": {},
   "cell_type": "markdown",
   "metadata": {},
   "source": [
    "The purpose of Python's OOP is to create reusable and modular code by organizing data and behavior into objects that interact with each other, leading to more readable, maintainable, and scalable code."
   ]
  },
  {
   "attachments": {},
   "cell_type": "markdown",
   "metadata": {},
   "source": [
    "**Q2. Where does an inheritance search look for an attribute?**"
   ]
  },
  {
   "attachments": {},
   "cell_type": "markdown",
   "metadata": {},
   "source": [
    "In Python, an inheritance search looks for an attribute first within the instance, then the class, and then the parent class (if it has one), following the hierarchy until the attribute is found or the top of the hierarchy is reached. This search order is determined by the MRO algorithm."
   ]
  },
  {
   "attachments": {},
   "cell_type": "markdown",
   "metadata": {},
   "source": [
    "**Q3. How do you distinguish between a class object and an instance object?**"
   ]
  },
  {
   "attachments": {},
   "cell_type": "markdown",
   "metadata": {},
   "source": [
    "A class object is a blueprint that defines the attributes and methods of objects that will be created from it, while an instance object is a specific object that is created from a class. To distinguish between them, think of a class object as a template and an instance object as a specific object created from that template. You can create an instance object by calling the class, and access the attributes and methods of the class object directly from the class itself."
   ]
  },
  {
   "attachments": {},
   "cell_type": "markdown",
   "metadata": {},
   "source": [
    "**Q4. What makes the first argument in a class’s method function special?**"
   ]
  },
  {
   "attachments": {},
   "cell_type": "markdown",
   "metadata": {},
   "source": [
    "First argument in a class's method function is conventionally called self, and it refers to the instance object that the method is called on.this argument is special because it allows the method to access and modify the instance's attributes and methods. By convention, the self argument is always the first parameter in a method definition, and it is automatically passed in when the method is called on an instance object.\n",
    "\n",
    "Ex:  "
   ]
  },
  {
   "cell_type": "code",
   "execution_count": 4,
   "metadata": {},
   "outputs": [],
   "source": [
    "class MyClass:\n",
    "\n",
    "    def my_method(self, arg1, arg2):\n",
    "        pass"
   ]
  },
  {
   "attachments": {},
   "cell_type": "markdown",
   "metadata": {},
   "source": [
    "**Q5. What is the purpose of the __init__ method?**"
   ]
  },
  {
   "attachments": {},
   "cell_type": "markdown",
   "metadata": {},
   "source": [
    " The ** __init__  ** method is a special method in Python that is used to initialize the attributes of an instance object when it is created from a class and perform any other setup that needs to be done before the instance is ready to be used.\n",
    "\n",
    " Example: "
   ]
  },
  {
   "cell_type": "code",
   "execution_count": 5,
   "metadata": {},
   "outputs": [],
   "source": [
    "class MyClass:\n",
    "    def __init__(self, arg1, arg2):\n",
    "        self.attribute1 = arg1\n",
    "        self.attribute2 = arg2\n"
   ]
  },
  {
   "attachments": {},
   "cell_type": "markdown",
   "metadata": {},
   "source": [
    "**Q6. What is the process for creating a class instance?**"
   ]
  },
  {
   "attachments": {},
   "cell_type": "markdown",
   "metadata": {},
   "source": [
    "To create a class instance in Python, need define the class, then call the class like a function with any necessary arguments to create a new instance object. Once the instance is created, can access its attributes and methods using dot notation."
   ]
  },
  {
   "cell_type": "code",
   "execution_count": 6,
   "metadata": {},
   "outputs": [
    {
     "name": "stdout",
     "output_type": "stream",
     "text": [
      "value1\n",
      "value2\n"
     ]
    }
   ],
   "source": [
    "class MyClass:\n",
    "    def __init__(self, arg1, arg2):\n",
    "        self.attribute1 = arg1\n",
    "        self.attribute2 = arg2\n",
    "\n",
    "my_instance = MyClass(\"value1\", \"value2\")\n",
    "\n",
    "print(my_instance.attribute1)\n",
    "print(my_instance.attribute2)\n"
   ]
  },
  {
   "attachments": {},
   "cell_type": "markdown",
   "metadata": {},
   "source": [
    "**Q7. What is the process for creating a class?**"
   ]
  },
  {
   "attachments": {},
   "cell_type": "markdown",
   "metadata": {},
   "source": [
    "To create a class, use the class keyword followed by the name of the class and a colon : to define the class. can then define the methods that will be available to instances of the class, and optionally define class attributes."
   ]
  },
  {
   "cell_type": "code",
   "execution_count": 7,
   "metadata": {},
   "outputs": [
    {
     "name": "stdout",
     "output_type": "stream",
     "text": [
      "Fido\n",
      "3\n",
      "Woof!\n",
      "mammal\n"
     ]
    }
   ],
   "source": [
    "class Dog:\n",
    "    species = 'mammal'\n",
    "\n",
    "    def __init__(self, name, age):\n",
    "        self.name = name\n",
    "        self.age = age\n",
    "\n",
    "    def bark(self):\n",
    "        print('Woof!')\n",
    "\n",
    "my_dog = Dog('Fido', 3)\n",
    "print(my_dog.name)\n",
    "print(my_dog.age)\n",
    "my_dog.bark()\n",
    "print(Dog.species)\n"
   ]
  },
  {
   "attachments": {},
   "cell_type": "markdown",
   "metadata": {},
   "source": [
    "**Q8. How would you define the superclasses of a class?**"
   ]
  },
  {
   "attachments": {},
   "cell_type": "markdown",
   "metadata": {},
   "source": [
    "To define the superclasses of a class in Python, you specify them in the class definition using parentheses after the class name. \n",
    "\n",
    "Example"
   ]
  },
  {
   "cell_type": "code",
   "execution_count": 9,
   "metadata": {},
   "outputs": [
    {
     "ename": "SyntaxError",
     "evalue": "incomplete input (4014282696.py, line 2)",
     "output_type": "error",
     "traceback": [
      "\u001b[1;36m  Cell \u001b[1;32mIn[9], line 2\u001b[1;36m\u001b[0m\n\u001b[1;33m    #class definition here\u001b[0m\n\u001b[1;37m                          ^\u001b[0m\n\u001b[1;31mSyntaxError\u001b[0m\u001b[1;31m:\u001b[0m incomplete input\n"
     ]
    }
   ],
   "source": [
    "class ChildClass(SuperClass1, SuperClass2):\n",
    "    #class definition here\n"
   ]
  }
 ],
 "metadata": {
  "kernelspec": {
   "display_name": "Python 3",
   "language": "python",
   "name": "python3"
  },
  "language_info": {
   "codemirror_mode": {
    "name": "ipython",
    "version": 3
   },
   "file_extension": ".py",
   "mimetype": "text/x-python",
   "name": "python",
   "nbconvert_exporter": "python",
   "pygments_lexer": "ipython3",
   "version": "3.11.1"
  },
  "orig_nbformat": 4
 },
 "nbformat": 4,
 "nbformat_minor": 2
}
