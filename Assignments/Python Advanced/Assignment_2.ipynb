{
 "cells": [
  {
   "attachments": {},
   "cell_type": "markdown",
   "metadata": {},
   "source": [
    "**Q1. What is the relationship between classes and modules?**"
   ]
  },
  {
   "attachments": {},
   "cell_type": "markdown",
   "metadata": {},
   "source": [
    "A module is a file containing Python code, while a class is a type of Python object that defines a set of attributes and methods. A module can contain one or more classes, and classes can be defined within a module. You can import a module into another Python program to reuse the classes and objects defined in the module.\n",
    "\n",
    "Example"
   ]
  },
  {
   "cell_type": "code",
   "execution_count": 2,
   "metadata": {},
   "outputs": [
    {
     "name": "stdout",
     "output_type": "stream",
     "text": [
      "2023-04-29 19:46:53.637962\n"
     ]
    }
   ],
   "source": [
    "import datetime # datetime module in Python provides classes for working with dates and times. \n",
    "\n",
    "now = datetime.datetime.now() # create a datetime object representing the current date and time\n",
    "\n",
    "print(now) # print the current date and time"
   ]
  },
  {
   "attachments": {},
   "cell_type": "markdown",
   "metadata": {},
   "source": [
    "**Q2. How do you make instances and classes?**"
   ]
  },
  {
   "attachments": {},
   "cell_type": "markdown",
   "metadata": {},
   "source": [
    "To make instances and classes in Python:\n",
    "\n",
    "Use the **'class'** keyword to define a class with instance variables and methods.\n",
    "\n",
    "Call the class constructor using the class name followed by parentheses to create an instance of the class.\n",
    "\n",
    "Assign the resulting object to a variable to keep a reference to it."
   ]
  },
  {
   "cell_type": "code",
   "execution_count": 8,
   "metadata": {},
   "outputs": [
    {
     "name": "stdout",
     "output_type": "stream",
     "text": [
      "Nimish\n",
      "25\n"
     ]
    }
   ],
   "source": [
    "#Example\n",
    "\n",
    "# Define a class called Person\n",
    "class person:  \n",
    "    def __init__(self,name,age):\n",
    "        self.name = name\n",
    "        self.age = age\n",
    "\n",
    "# Create an instance of the Person class\n",
    "person1 = person(\"Nimish\",25)\n",
    "\n",
    "# Print the name and age of the person\n",
    "print(person1.name)\n",
    "print(person1.age)"
   ]
  },
  {
   "attachments": {},
   "cell_type": "markdown",
   "metadata": {},
   "source": [
    "**Q3. Where and how should be class attributes created?**"
   ]
  },
  {
   "attachments": {},
   "cell_type": "markdown",
   "metadata": {},
   "source": [
    "Class attributes are created inside the class definition and outside of any instance methods. They are created by simply defining a variable within the class, but outside of any methods."
   ]
  },
  {
   "cell_type": "code",
   "execution_count": 9,
   "metadata": {},
   "outputs": [
    {
     "name": "stdout",
     "output_type": "stream",
     "text": [
      "human\n",
      "human\n"
     ]
    }
   ],
   "source": [
    "#Example\n",
    "\n",
    "class Person:\n",
    "    species = \"human\"\n",
    "\n",
    "    def __init__(self, name, age):\n",
    "        self.name = name\n",
    "        self.age = age\n",
    "\n",
    "print(Person.species)  # Output: \"human\"\n",
    "\n",
    "person1 = Person(\"Alice\", 25)\n",
    "print(person1.species)  # Output: \"human\"\n"
   ]
  },
  {
   "attachments": {},
   "cell_type": "markdown",
   "metadata": {},
   "source": [
    "**Q4. Where and how are instance attributes created?**"
   ]
  },
  {
   "cell_type": "markdown",
   "metadata": {},
   "source": [
    "Instance attributes are created inside the class's __init__ method by assigning values to self. self is a reference to the instance of the class being created, and assigning values to it creates instance attributes."
   ]
  },
  {
   "cell_type": "code",
   "execution_count": 10,
   "metadata": {},
   "outputs": [
    {
     "name": "stdout",
     "output_type": "stream",
     "text": [
      "Nimish\n",
      "25\n",
      "Yash\n",
      "30\n"
     ]
    }
   ],
   "source": [
    "class Person:\n",
    "    def __init__(self, name, age):\n",
    "        self.name = name\n",
    "        self.age = age\n",
    "\n",
    "person1 = Person(\"Nimish\", 25)\n",
    "print(person1.name)  \n",
    "print(person1.age)  \n",
    "\n",
    "person2 = Person(\"Yash\", 30)\n",
    "print(person2.name)  \n",
    "print(person2.age)  \n",
    "\n"
   ]
  },
  {
   "attachments": {},
   "cell_type": "markdown",
   "metadata": {},
   "source": [
    "**Q5. What does the term &quot;self&quot; in a Python class mean?**"
   ]
  },
  {
   "attachments": {},
   "cell_type": "markdown",
   "metadata": {},
   "source": [
    "**'self'** is a convention for referring to the current instance of a class within the class definition. It's a reference to the instance that is calling the method.\n",
    "\n",
    "It's the first parameter of the instance methods in a class and is used to access the instance's attributes and methods.you can use any parameter name instead of self. \n",
    "\n",
    "However, using **'self'** is a convention and a widely accepted practice in the Python community. It helps to differentiate instance variables from local variables and makes the code more readable and understandable."
   ]
  },
  {
   "attachments": {},
   "cell_type": "markdown",
   "metadata": {},
   "source": [
    "**Q6. How does a Python class handle operator overloading?**"
   ]
  },
  {
   "attachments": {},
   "cell_type": "markdown",
   "metadata": {},
   "source": [
    "Python allows operator overloading by defining special methods in a class that correspond to each operator."
   ]
  },
  {
   "cell_type": "code",
   "execution_count": 17,
   "metadata": {},
   "outputs": [
    {
     "name": "stdout",
     "output_type": "stream",
     "text": [
      "Nimish is younger than Yash\n"
     ]
    }
   ],
   "source": [
    "#Example\n",
    "\n",
    "class Person:\n",
    "    def __init__(self, name, age):\n",
    "        self.name = name\n",
    "        self.age = age\n",
    "    \n",
    "    def __lt__(self, other):\n",
    "        return self.age < other.age\n",
    "\n",
    "person1 = Person(\"Nimish\", 25)\n",
    "person2 = Person(\"Yash\", 30)\n",
    "\n",
    "if person1 < person2:\n",
    "    print(person1.name, \"is younger than\", person2.name)\n",
    "else:\n",
    "    print(person1.name, \"is older than\", person2.name)\n",
    "\n",
    "\n"
   ]
  },
  {
   "attachments": {},
   "cell_type": "markdown",
   "metadata": {},
   "source": [
    "**Q7. When do you consider allowing operator overloading of your classes?**"
   ]
  },
  {
   "attachments": {},
   "cell_type": "markdown",
   "metadata": {},
   "source": [
    "Operator overloading should be considered when it makes the code more readable and intuitive. It can make the class instances behave like built-in types, and can simplify code that works with them"
   ]
  },
  {
   "attachments": {},
   "cell_type": "markdown",
   "metadata": {},
   "source": [
    "**Q8. What is the most popular form of operator overloading?**"
   ]
  },
  {
   "attachments": {},
   "cell_type": "markdown",
   "metadata": {},
   "source": [
    "The most popular form of operator overloading is the \"+\" operator for concatenation or addition."
   ]
  },
  {
   "attachments": {},
   "cell_type": "markdown",
   "metadata": {},
   "source": [
    "**Q9. What are the two most important concepts to grasp in order to comprehend Python OOP code?**"
   ]
  },
  {
   "attachments": {},
   "cell_type": "markdown",
   "metadata": {},
   "source": [
    "The two most important concepts to comprehend Python OOP code are objects and classes."
   ]
  }
 ],
 "metadata": {
  "kernelspec": {
   "display_name": "Python 3",
   "language": "python",
   "name": "python3"
  },
  "language_info": {
   "codemirror_mode": {
    "name": "ipython",
    "version": 3
   },
   "file_extension": ".py",
   "mimetype": "text/x-python",
   "name": "python",
   "nbconvert_exporter": "python",
   "pygments_lexer": "ipython3",
   "version": "3.11.1"
  },
  "orig_nbformat": 4
 },
 "nbformat": 4,
 "nbformat_minor": 2
}
