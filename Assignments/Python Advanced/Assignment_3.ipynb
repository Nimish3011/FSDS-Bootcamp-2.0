{
 "cells": [
  {
   "attachments": {},
   "cell_type": "markdown",
   "metadata": {},
   "source": [
    "**1. What is the concept of an abstract superclass?**"
   ]
  },
  {
   "attachments": {},
   "cell_type": "markdown",
   "metadata": {},
   "source": [
    "An abstract superclass is a class that is not meant to be instantiated, but serves as a blueprint for other classes to inherit from. It defines a common interface and behavior that its subclasses must implement."
   ]
  },
  {
   "attachments": {},
   "cell_type": "markdown",
   "metadata": {},
   "source": [
    "**2. What happens when a class statement&#39;s top level contains a basic assignment statement?**"
   ]
  },
  {
   "attachments": {},
   "cell_type": "markdown",
   "metadata": {},
   "source": [
    "When a class statement's top level contains a basic assignment statement, it creates a class variable or attribute. This attribute is shared by all instances of the class and can be accessed using the class name or the instance name."
   ]
  },
  {
   "cell_type": "code",
   "execution_count": 1,
   "metadata": {},
   "outputs": [
    {
     "name": "stdout",
     "output_type": "stream",
     "text": [
      "20\n",
      "10\n"
     ]
    }
   ],
   "source": [
    "#Example:\n",
    "\n",
    "x = 10\n",
    "\n",
    "class MyClass:\n",
    "    def __init__(self, y):\n",
    "        self.y = y\n",
    "\n",
    "obj = MyClass(20)\n",
    "print(obj.y)\n",
    "print(x)\n",
    "\n"
   ]
  },
  {
   "attachments": {},
   "cell_type": "markdown",
   "metadata": {},
   "source": [
    "**3. Why does a class need to manually call a superclass&#39;s __init__ method?**"
   ]
  },
  {
   "attachments": {},
   "cell_type": "markdown",
   "metadata": {},
   "source": [
    "When a subclass overrides a method that exists in its superclass, it can sometimes be necessary to invoke the superclass's version of the method in addition to the subclass's version. This is where the superclass's __init__ method comes into play"
   ]
  },
  {
   "cell_type": "code",
   "execution_count": 2,
   "metadata": {},
   "outputs": [
    {
     "name": "stdout",
     "output_type": "stream",
     "text": [
      "Animal initialized\n",
      "Dog initialized\n"
     ]
    }
   ],
   "source": [
    "class Animal:\n",
    "    def __init__(self, species):\n",
    "        self.species = species\n",
    "        print(\"Animal initialized\")\n",
    "        \n",
    "class Dog(Animal):\n",
    "    def __init__(self, breed):\n",
    "        super().__init__(\"Canine\")\n",
    "        self.breed = breed\n",
    "        print(\"Dog initialized\")\n",
    "        \n",
    "my_dog = Dog(\"Golden Retriever\")\n"
   ]
  },
  {
   "attachments": {},
   "cell_type": "markdown",
   "metadata": {},
   "source": [
    "**4. How can you augment, instead of completely replacing, an inherited method?**"
   ]
  },
  {
   "attachments": {},
   "cell_type": "markdown",
   "metadata": {},
   "source": [
    "To augment an inherited method instead of completely replacing it, we can use the concept of method overriding in Python. Method overriding is the process of creating a method in a subclass that has the same name and signature as a method in its superclass, thus replacing the inherited method. However, the subclass method can also call the superclass method to augment the behavior of the inherited method."
   ]
  },
  {
   "cell_type": "code",
   "execution_count": 4,
   "metadata": {},
   "outputs": [
    {
     "name": "stdout",
     "output_type": "stream",
     "text": [
      "Generic animal sound\n",
      "Meow\n"
     ]
    }
   ],
   "source": [
    "#Example\n",
    "\n",
    "class Animal:\n",
    "    def make_sound(self):\n",
    "        print(\"Generic animal sound\")\n",
    "        \n",
    "class Cat(Animal):\n",
    "    def make_sound(self):\n",
    "        super().make_sound()\n",
    "        print(\"Meow\")\n",
    "        \n",
    "my_cat = Cat()\n",
    "my_cat.make_sound()\n"
   ]
  },
  {
   "attachments": {},
   "cell_type": "markdown",
   "metadata": {},
   "source": [
    "**5. How is the local scope of a class different from that of a function?**"
   ]
  },
  {
   "attachments": {},
   "cell_type": "markdown",
   "metadata": {},
   "source": [
    "Local scope of a class and that of a function are different in the way they handle variables. In a function, variables declared inside the function are local to that function and can only be accessed within that function, while variables declared outside the function are considered global and can be accessed from anywhere in the program.\n",
    "\n",
    "In a class, variables declared inside the class but outside of any method are class variables and are accessible to all instances of the class. Variables declared inside a method are instance variables and are only accessible to the specific instance of the class."
   ]
  }
 ],
 "metadata": {
  "kernelspec": {
   "display_name": "Python 3",
   "language": "python",
   "name": "python3"
  },
  "language_info": {
   "codemirror_mode": {
    "name": "ipython",
    "version": 3
   },
   "file_extension": ".py",
   "mimetype": "text/x-python",
   "name": "python",
   "nbconvert_exporter": "python",
   "pygments_lexer": "ipython3",
   "version": "3.11.1"
  },
  "orig_nbformat": 4
 },
 "nbformat": 4,
 "nbformat_minor": 2
}
