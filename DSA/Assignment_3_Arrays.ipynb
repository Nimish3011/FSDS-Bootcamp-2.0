{
  "nbformat": 4,
  "nbformat_minor": 0,
  "metadata": {
    "colab": {
      "provenance": []
    },
    "kernelspec": {
      "name": "python3",
      "display_name": "Python 3"
    },
    "language_info": {
      "name": "python"
    }
  },
  "cells": [
    {
      "cell_type": "markdown",
      "source": [
        "💡\n",
        "**Question 1**\n",
        "Given an integer array nums of length n and an integer target, find three integers\n",
        "in nums such that the sum is closest to the target.\n",
        "Return the sum of the three integers.\n",
        "\n",
        "You may assume that each input would have exactly one solution.\n",
        "\n",
        "**Example 1:**\n",
        "Input: nums = [-1,2,1,-4], target = 1\n",
        "Output: 2\n",
        "\n",
        "**Explanation**: The sum that is closest to the target is 2. (-1 + 2 + 1 = 2)."
      ],
      "metadata": {
        "id": "clJJ1GiPXrdY"
      }
    },
    {
      "cell_type": "code",
      "execution_count": 10,
      "metadata": {
        "colab": {
          "base_uri": "https://localhost:8080/"
        },
        "id": "YSDF2Ev2XYK8",
        "outputId": "75ec087b-904a-4bab-fbf2-cc0f08af3661"
      },
      "outputs": [
        {
          "output_type": "stream",
          "name": "stdout",
          "text": [
            "1\n"
          ]
        }
      ],
      "source": [
        "def closest_to_target(nums, target):\n",
        "\n",
        "  nums.sort()\n",
        "  \n",
        "  closest_sum = float(\"inf\")\n",
        "  min_diff = float(\"inf\")\n",
        "\n",
        "  for i in range(len(nums)):\n",
        "    for j in range(i + 1, len(nums)):\n",
        "      third_int = target - nums[i] - nums[j]\n",
        "      diff = abs(third_int)\n",
        "      if diff < min_diff:\n",
        "        min_diff = diff\n",
        "        closest_sum = nums[i] + nums[j] + third_int\n",
        "\n",
        "  return closest_sum\n",
        "\n",
        "nums = [-1, 2, 1, -4]\n",
        "target = 1\n",
        "closest_sum = closest_to_target(nums, target)\n",
        "print(closest_sum)\n",
        "\n"
      ]
    },
    {
      "cell_type": "markdown",
      "source": [
        "💡\n",
        "**Question 2**\n",
        "Given an array nums of n integers, return an array of all the unique quadruplets\n",
        "[nums[a], nums[b], nums[c], nums[d]] such that:\n",
        "           ● 0 <= a, b, c, d < n\n",
        "           ● a, b, c, and d are distinct.\n",
        "           ● nums[a] + nums[b] + nums[c] + nums[d] == target\n",
        "\n",
        "You may return the answer in any order.\n",
        "\n",
        "**Example 1:**\n",
        "Input: nums = [1,0,-1,0,-2,2], target = 0\n",
        "Output: [[-2,-1,1,2],[-2,0,0,2],[-1,0,0,1]]"
      ],
      "metadata": {
        "id": "xwEOeV6nZ2ML"
      }
    },
    {
      "cell_type": "code",
      "source": [],
      "metadata": {
        "id": "fEOGatXRZbAr"
      },
      "execution_count": 10,
      "outputs": []
    },
    {
      "cell_type": "markdown",
      "source": [
        "\n",
        "💡 **Question 3**\n",
        "A permutation of an array of integers is an arrangement of its members into a\n",
        "sequence or linear order.\n",
        "\n",
        "For example, for arr = [1,2,3], the following are all the permutations of arr:\n",
        "[1,2,3], [1,3,2], [2, 1, 3], [2, 3, 1], [3,1,2], [3,2,1].\n",
        "\n",
        "The next permutation of an array of integers is the next lexicographically greater\n",
        "permutation of its integer. More formally, if all the permutations of the array are\n",
        "sorted in one container according to their lexicographical order, then the next\n",
        "permutation of that array is the permutation that follows it in the sorted container.\n",
        "\n",
        "If such an arrangement is not possible, the array must be rearranged as the\n",
        "lowest possible order (i.e., sorted in ascending order).\n",
        "\n",
        "● For example, the next permutation of arr = [1,2,3] is [1,3,2].\n",
        "● Similarly, the next permutation of arr = [2,3,1] is [3,1,2].\n",
        "● While the next permutation of arr = [3,2,1] is [1,2,3] because [3,2,1] does not\n",
        "have a lexicographical larger rearrangement.\n",
        "\n",
        "Given an array of integers nums, find the next permutation of nums.\n",
        "The replacement must be in place and use only constant extra memory.\n",
        "\n",
        "**Example 1:**\n",
        "Input: nums = [1,2,3]\n",
        "Output: [1,3,2]"
      ],
      "metadata": {
        "id": "m-dAtc5EfOSx"
      }
    },
    {
      "cell_type": "code",
      "source": [],
      "metadata": {
        "id": "IZVvI8XwfTDJ"
      },
      "execution_count": 10,
      "outputs": []
    },
    {
      "cell_type": "markdown",
      "source": [
        "💡\n",
        "**Question 4**\n",
        "Given a sorted array of distinct integers and a target value, return the index if the\n",
        "target is found. If not, return the index where it would be if it were inserted in\n",
        "order.\n",
        "\n",
        "You must write an algorithm with O(log n) runtime complexity.\n",
        "\n",
        "**Example 1:**\n",
        "Input: nums = [1,3,5,6], target = 5\n",
        "Output: 2"
      ],
      "metadata": {
        "id": "19g1Y5u3bnXy"
      }
    },
    {
      "cell_type": "code",
      "source": [
        "def search_insert_position(nums, target):\n",
        "  low = 0\n",
        "  high = len(nums) - 1\n",
        "\n",
        "  while low <= high:\n",
        "    mid = (low + high) // 2\n",
        "\n",
        "    if nums[mid] == target:\n",
        "      return mid\n",
        "    elif nums[mid] < target:\n",
        "      low = mid + 1\n",
        "    else:\n",
        "      high = mid - 1\n",
        "\n",
        "  return low\n",
        "\n",
        "\n",
        "if __name__ == \"__main__\":\n",
        "  nums = [1, 3, 5, 6]\n",
        "  target = 5\n",
        "\n",
        "  print(search_insert_position(nums, target))\n"
      ],
      "metadata": {
        "colab": {
          "base_uri": "https://localhost:8080/"
        },
        "id": "t0u47sqJbn2K",
        "outputId": "e86c5b3f-2928-44d7-f3cf-8a20cdd5846a"
      },
      "execution_count": 11,
      "outputs": [
        {
          "output_type": "stream",
          "name": "stdout",
          "text": [
            "2\n"
          ]
        }
      ]
    },
    {
      "cell_type": "markdown",
      "source": [
        "\n",
        "💡\n",
        " **Question 5**\n",
        "You are given a large integer represented as an integer array digits, where each\n",
        "digits[i] is the ith digit of the integer. The digits are ordered from most significant\n",
        "to least significant in left-to-right order. The large integer does not contain any\n",
        "leading 0's.\n",
        "\n",
        "Increment the large integer by one and return the resulting array of digits.\n",
        "\n",
        "**Example 1:**\n",
        "Input: digits = [1,2,3]\n",
        "Output: [1,2,4]\n",
        "\n",
        "**Explanation:** The array represents the integer 123.\n",
        "Incrementing by one gives 123 + 1 = 124.\n",
        "Thus, the result should be [1,2,4].\n",
        "\n"
      ],
      "metadata": {
        "id": "_thOkqejb_ma"
      }
    },
    {
      "cell_type": "code",
      "source": [
        "def increment_by_one(digits):\n",
        "\n",
        "  carry = 1\n",
        "  for i in range(len(digits) - 1, -1, -1):\n",
        "    digits[i] += carry\n",
        "    carry = digits[i] // 10\n",
        "    digits[i] %= 10\n",
        "\n",
        "  if carry:\n",
        "    digits.insert(0, 1)\n",
        "\n",
        "  return digits\n",
        "\n",
        "if __name__ == \"__main__\":\n",
        "  digits = [1, 2, 3]\n",
        "\n",
        "  print(increment_by_one(digits))\n"
      ],
      "metadata": {
        "colab": {
          "base_uri": "https://localhost:8080/"
        },
        "id": "3Q4GRyZ6b5xz",
        "outputId": "7970eb1f-29e7-4bb6-f1e5-0364eead749c"
      },
      "execution_count": 12,
      "outputs": [
        {
          "output_type": "stream",
          "name": "stdout",
          "text": [
            "[1, 2, 4]\n"
          ]
        }
      ]
    },
    {
      "cell_type": "markdown",
      "source": [
        "💡\n",
        "**Question 6**\n",
        "Given a non-empty array of integers nums, every element appears twice except\n",
        "for one. Find that single one.\n",
        "\n",
        "You must implement a solution with a linear runtime complexity and use only\n",
        "constant extra space.\n",
        "\n",
        "**Example 1:**\n",
        "Input: nums = [2,2,1]\n",
        "Output: 1"
      ],
      "metadata": {
        "id": "7pAUjHlIdnr-"
      }
    },
    {
      "cell_type": "code",
      "source": [
        "def single_num(nums):\n",
        "    single = 0\n",
        "    for num in nums:\n",
        "        single ^= num\n",
        "    return single\n",
        "\n",
        "nums = [2, 2, 1]\n",
        "result = single_num(nums)\n",
        "print(result) \n"
      ],
      "metadata": {
        "colab": {
          "base_uri": "https://localhost:8080/"
        },
        "id": "VcA3ZGTvcsXJ",
        "outputId": "7f03b4ba-4ccc-4454-d1e7-2eee394e5407"
      },
      "execution_count": 13,
      "outputs": [
        {
          "output_type": "stream",
          "name": "stdout",
          "text": [
            "1\n"
          ]
        }
      ]
    },
    {
      "cell_type": "markdown",
      "source": [
        "💡\n",
        "**Question 7**\n",
        "You are given an inclusive range [lower, upper] and a sorted unique integer array\n",
        "nums, where all elements are within the inclusive range.\n",
        "\n",
        "A number x is considered missing if x is in the range [lower, upper] and x is not in\n",
        "nums.\n",
        "\n",
        "Return the shortest sorted list of ranges that exactly covers all the missing\n",
        "numbers. That is, no element of nums is included in any of the ranges, and each\n",
        "missing number is covered by one of the ranges.\n",
        "\n",
        "**Example 1:**\n",
        "Input: nums = [0,1,3,50,75], lower = 0, upper = 99\n",
        "Output: [[2,2],[4,49],[51,74],[76,99]]\n",
        "\n",
        "Explanation: The ranges are:\n",
        "[2,2]\n",
        "[4,49]\n",
        "[51,74]\n",
        "[76,99]"
      ],
      "metadata": {
        "id": "-oo8cSGbe06j"
      }
    },
    {
      "cell_type": "code",
      "source": [
        "def missing_numbers(nums, lower, upper):\n",
        "  ranges = []\n",
        "\n",
        "  start = lower\n",
        "  for num in nums:\n",
        "    if num > start:\n",
        "      if start < num - 1:\n",
        "        ranges.append([start, num - 1])\n",
        "      start = num\n",
        "\n",
        "  if start < upper:\n",
        "    ranges.append([start, upper])\n",
        "\n",
        "  ranges.sort()\n",
        "\n",
        "  return ranges\n",
        "\n",
        "if __name__ == \"__main__\":\n",
        "  nums = [0, 1, 3, 50, 75]\n",
        "  lower = 0\n",
        "  upper = 99\n",
        "\n",
        "print(missing_numbers(nums, lower, upper))\n"
      ],
      "metadata": {
        "colab": {
          "base_uri": "https://localhost:8080/"
        },
        "id": "A-xPYABOdlUc",
        "outputId": "6340ed39-dc9d-4de0-c37f-e7aa5f2d29be"
      },
      "execution_count": 14,
      "outputs": [
        {
          "output_type": "stream",
          "name": "stdout",
          "text": [
            "[[1, 2], [3, 49], [50, 74], [75, 99]]\n"
          ]
        }
      ]
    },
    {
      "cell_type": "markdown",
      "source": [
        "💡\n",
        "**Question 8**\n",
        "Given an array of meeting time intervals where intervals[i] = [starti, endi],\n",
        "determine if a person could attend all meetings.\n",
        "\n",
        "**Example 1:**\n",
        "Input: intervals = [[0,30],[5,10],[15,20]]\n",
        "Output: false"
      ],
      "metadata": {
        "id": "YUhuzFxBesLJ"
      }
    },
    {
      "cell_type": "code",
      "source": [
        "def can_attend_all_meetings(intervals):\n",
        "\n",
        "  intervals.sort()\n",
        "\n",
        "  for i in range(1, len(intervals)):\n",
        "    if intervals[i][0] < intervals[i - 1][1]:\n",
        "      return False\n",
        "\n",
        "  return True\n",
        "\n",
        "if __name__ == \"__main__\":\n",
        "  intervals = [[0, 30], [5, 10], [15, 20]]\n",
        "\n",
        "  print(can_attend_all_meetings(intervals))\n"
      ],
      "metadata": {
        "colab": {
          "base_uri": "https://localhost:8080/"
        },
        "id": "_bOT806eewDI",
        "outputId": "f09db231-25d9-4be8-d1ba-6d670b50bd13"
      },
      "execution_count": 15,
      "outputs": [
        {
          "output_type": "stream",
          "name": "stdout",
          "text": [
            "False\n"
          ]
        }
      ]
    },
    {
      "cell_type": "code",
      "source": [],
      "metadata": {
        "id": "5YhbMt1ifvDq"
      },
      "execution_count": 15,
      "outputs": []
    }
  ]
}