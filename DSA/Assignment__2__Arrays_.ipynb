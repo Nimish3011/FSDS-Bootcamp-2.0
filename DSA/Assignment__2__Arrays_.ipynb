{
  "nbformat": 4,
  "nbformat_minor": 0,
  "metadata": {
    "colab": {
      "provenance": []
    },
    "kernelspec": {
      "name": "python3",
      "display_name": "Python 3"
    },
    "language_info": {
      "name": "python"
    }
  },
  "cells": [
    {
      "cell_type": "markdown",
      "source": [
        "\n",
        "💡\n",
        " **Question 1**\n",
        "Given an integer array nums of 2n integers, group these integers into n pairs (a1, b1), (a2, b2),..., (an, bn) such that the sum of min(ai, bi) for all i is maximized. Return the maximized sum.\n",
        "\n",
        "**Example 1:**\n",
        "Input: nums = [1,4,3,2]\n",
        "Output: 4\n",
        "\n",
        "**Explanation:** All possible pairings (ignoring the ordering of elements) are:\n",
        "\n",
        "1. (1, 4), (2, 3) -> min(1, 4) + min(2, 3) = 1 + 2 = 3\n",
        "2. (1, 3), (2, 4) -> min(1, 3) + min(2, 4) = 1 + 2 = 3\n",
        "3. (1, 2), (3, 4) -> min(1, 2) + min(3, 4) = 1 + 3 = 4\n",
        "So the maximum possible sum is 4\n"
      ],
      "metadata": {
        "id": "luxGFqC0Ggah"
      }
    },
    {
      "cell_type": "code",
      "execution_count": 31,
      "metadata": {
        "id": "oSNdLVOwFW-s",
        "colab": {
          "base_uri": "https://localhost:8080/"
        },
        "outputId": "dc7cc762-6b9e-48ae-ca0f-a75ec6268f80"
      },
      "outputs": [
        {
          "output_type": "stream",
          "name": "stdout",
          "text": [
            "4\n"
          ]
        }
      ],
      "source": [
        "def group_array_into_pairs(nums):\n",
        "    nums.sort()\n",
        "    sum_of_mins = 0\n",
        "    for i in range(0, len(nums), 2):\n",
        "        sum_of_mins += min(nums[i], nums[i + 1])\n",
        "    return sum_of_mins\n",
        "\n",
        "nums = [1, 4, 3, 2]\n",
        "print(group_array_into_pairs(nums))\n"
      ]
    },
    {
      "cell_type": "markdown",
      "source": [
        "💡\n",
        " **Question 2**\n",
        "Alice has n candies, where the ith candy is of type candyType[i]. Alice noticed that she started to gain weight, so she visited a doctor. \n",
        "\n",
        "The doctor advised Alice to only eat n / 2 of the candies she has (n is always even). Alice likes her candies very much, and she wants to eat the maximum number of different types of candies while still following the doctor's advice. \n",
        "\n",
        "Given the integer array candyType of length n, return the maximum number of different types of candies she can eat if she only eats n / 2 of them.\n",
        "\n",
        "**Example 1:**\n",
        "Input: candyType = [1,1,2,2,3,3]\n",
        "Output: 3\n",
        "\n",
        "**Explanation:** Alice can only eat 6 / 2 = 3 candies. Since there are only 3 types, she can eat one of each type."
      ],
      "metadata": {
        "id": "LF2FwQI2HvaT"
      }
    },
    {
      "cell_type": "code",
      "source": [
        "def max_num_of_candies(candyType):\n",
        "    unique_candies = set(candyType)\n",
        "    print(f\"unique candies are : {unique_candies}\")\n",
        "    max_candies = min(len(unique_candies), len(candyType) // 2)\n",
        "    return max_candies\n",
        "\n",
        "candyType = [1, 1, 2, 2, 3, 3]\n",
        "print(max_num_of_candies(candyType))\n"
      ],
      "metadata": {
        "colab": {
          "base_uri": "https://localhost:8080/"
        },
        "id": "Den0sCqXGxRk",
        "outputId": "911d2808-773f-472b-da34-833c2a365965"
      },
      "execution_count": 25,
      "outputs": [
        {
          "output_type": "stream",
          "name": "stdout",
          "text": [
            "unique candies are : {1, 2, 3}\n",
            "3\n"
          ]
        }
      ]
    },
    {
      "cell_type": "markdown",
      "source": [
        "💡\n",
        "** Question 3**\n",
        "We define a harmonious array as an array where the difference between its maximum value\n",
        "and its minimum value is exactly 1.\n",
        "\n",
        "Given an integer array nums, return the length of its longest harmonious subsequence\n",
        "among all its possible subsequences.\n",
        "\n",
        "A subsequence of an array is a sequence that can be derived from the array by deleting some or no elements without changing the order of the remaining elements.\n",
        "\n",
        "**Example 1:**\n",
        "Input: nums = [1,3,2,2,5,2,3,7]\n",
        "Output: 5\n",
        "\n",
        "**Explanation:** The longest harmonious subsequence is [3,2,2,2,3]."
      ],
      "metadata": {
        "id": "LdR2XJWhLczR"
      }
    },
    {
      "cell_type": "code",
      "source": [
        "def FindLHS(nums):\n",
        "  LHS= {}\n",
        "  for num in nums:\n",
        "    LHS[num] = 0\n",
        "\n",
        "  for i in range(len(nums)):\n",
        "    for j in range(i):\n",
        "      if nums[i] - nums[j] <= 1:\n",
        "        LHS[nums[i]] = max(LHS[nums[i]], LHS[nums[j]] + 1)\n",
        "\n",
        "  return max(LHS.values())\n",
        "\n",
        "nums = [1, 3, 2, 2, 5, 2, 3, 7]\n",
        "\n",
        "print( FindLHS(nums))\n"
      ],
      "metadata": {
        "colab": {
          "base_uri": "https://localhost:8080/"
        },
        "id": "PQ0Cshg6JeLs",
        "outputId": "f9e342cc-92e8-45de-e22e-3b86e1319e10"
      },
      "execution_count": 26,
      "outputs": [
        {
          "output_type": "stream",
          "name": "stdout",
          "text": [
            "5\n"
          ]
        }
      ]
    },
    {
      "cell_type": "markdown",
      "source": [
        "💡\n",
        "**Question 4**\n",
        "You have a long flowerbed in which some of the plots are planted, and some are not.\n",
        "However, flowers cannot be planted in adjacent plots.\n",
        "Given an integer array flowerbed containing 0's and 1's, where 0 means empty and 1 means not empty, and an integer n, return true if n new flowers can be planted in the flowerbed without violating the no-adjacent-flowers rule and false otherwise.\n",
        "\n",
        "**Example 1:**\n",
        "Input: flowerbed = [1,0,0,0,1], n = 1\n",
        "Output: true"
      ],
      "metadata": {
        "id": "cBChSzVjNmL4"
      }
    },
    {
      "cell_type": "code",
      "source": [
        "def flower(flowerbed, n):\n",
        "  empty_plots = 0\n",
        "  for i in range(len(flowerbed)):\n",
        "    if flowerbed[i] == 0:\n",
        "      empty_plots += 1\n",
        "  return empty_plots >= n\n",
        "  \n",
        "flowerbed = [1, 0, 0, 0, 1]\n",
        "n = 1\n",
        "\n",
        "print(flower(flowerbed, n))\n",
        "\n"
      ],
      "metadata": {
        "colab": {
          "base_uri": "https://localhost:8080/"
        },
        "id": "Bl4kIsoxM0EM",
        "outputId": "8a62fe7d-6cd9-44ce-9847-cd1100b2b14b"
      },
      "execution_count": 27,
      "outputs": [
        {
          "output_type": "stream",
          "name": "stdout",
          "text": [
            "True\n"
          ]
        }
      ]
    },
    {
      "cell_type": "markdown",
      "source": [
        "💡\n",
        "**Question 5**\n",
        "Given an integer array nums, find three numbers whose product is maximum and return the maximum product.\n",
        "\n",
        "**Example 1:**\n",
        "Input: nums = [1,2,3]\n",
        "Output: 6"
      ],
      "metadata": {
        "id": "gautdlSQOjNc"
      }
    },
    {
      "cell_type": "code",
      "source": [
        "def maximumProduct(nums):\n",
        "    nums.sort()\n",
        "    n = len(nums)\n",
        "    return max(nums[n - 1] * nums[n - 2] * nums[n - 3], nums[0] * nums[1] * nums[n - 1])\n",
        "    \n",
        "nums = [1, 2, 3]\n",
        "print(maximumProduct(nums))\n"
      ],
      "metadata": {
        "colab": {
          "base_uri": "https://localhost:8080/"
        },
        "id": "QjIed53VPOS2",
        "outputId": "84db5994-f408-4038-cf4e-a86bf43c51b4"
      },
      "execution_count": 28,
      "outputs": [
        {
          "output_type": "stream",
          "name": "stdout",
          "text": [
            "6\n"
          ]
        }
      ]
    },
    {
      "cell_type": "markdown",
      "source": [
        "💡\n",
        "**Question 6**\n",
        "Given an array of integers nums which is sorted in ascending order, and an integer target,\n",
        "write a function to search target in nums. If target exists, then return its index. Otherwise,\n",
        "return -1.\n",
        "\n",
        "You must write an algorithm with O(log n) runtime complexity.\n",
        "\n",
        "**Example 1:**\n",
        "Input: nums = [-1,0,3,5,9,12], target = 9\n",
        "Output: 4\n",
        "\n",
        "**Explanation:** 9 exists in nums and its index is 4"
      ],
      "metadata": {
        "id": "UEQTH1djRQ5C"
      }
    },
    {
      "cell_type": "code",
      "source": [],
      "metadata": {
        "id": "zkKhtgeWRfJv"
      },
      "execution_count": 28,
      "outputs": []
    },
    {
      "cell_type": "markdown",
      "source": [
        "💡\n",
        "**Question 7**\n",
        "An array is monotonic if it is either monotone increasing or monotone decreasing.\n",
        "\n",
        "An array nums is monotone increasing if for all i <= j, nums[i] <= nums[j]. An array nums is\n",
        "monotone decreasing if for all i <= j, nums[i] >= nums[j].\n",
        "\n",
        "Given an integer array nums, return true if the given array is monotonic, or false otherwise.\n",
        "\n",
        "**Example 1:**\n",
        "Input: nums = [1,2,2,3]\n",
        "Output: true"
      ],
      "metadata": {
        "id": "2wKum1p1Rocn"
      }
    },
    {
      "cell_type": "code",
      "source": [
        "def isMonotonic(nums):\n",
        "    isIncreasing = True\n",
        "    isDecreasing = True\n",
        "\n",
        "    for i in range(1, len(nums)):\n",
        "        if nums[i] < nums[i - 1]:\n",
        "            isIncreasing = False\n",
        "        if nums[i] > nums[i - 1]:\n",
        "            isDecreasing = False\n",
        "        if not isIncreasing and not isDecreasing:\n",
        "            return False\n",
        "\n",
        "    return True\n",
        "    \n",
        "nums = [1, 2, 2, 3]\n",
        "print(isMonotonic(nums))\n"
      ],
      "metadata": {
        "colab": {
          "base_uri": "https://localhost:8080/"
        },
        "id": "Ead6PSojRvr6",
        "outputId": "d46c4187-ec6b-4fed-8fe9-8c48bd4315c1"
      },
      "execution_count": 29,
      "outputs": [
        {
          "output_type": "stream",
          "name": "stdout",
          "text": [
            "True\n"
          ]
        }
      ]
    },
    {
      "cell_type": "markdown",
      "source": [
        "💡\n",
        "**Question 8**\n",
        "You are given an integer array nums and an integer k.\n",
        "\n",
        "In one operation, you can choose any index i where 0 <= i < nums.length and change nums[i] to nums[i] + x where x is an integer from the range [-k, k]. You can apply this operation at most once for each index i.\n",
        "\n",
        "The score of nums is the difference between the maximum and minimum elements in nums.\n",
        "\n",
        "Return the minimum score of nums after applying the mentioned operation at most once for each index in it.\n",
        "\n",
        "**Example 1:**\n",
        "Input: nums = [1], k = 0\n",
        "Output: 0\n",
        "\n",
        "**Explanation:** The score is max(nums) - min(nums) = 1 - 1 = 0."
      ],
      "metadata": {
        "id": "JkPi_hg5RwaA"
      }
    },
    {
      "cell_type": "code",
      "source": [
        "def minimumScore(nums, k):\n",
        "    nums.sort()\n",
        "    min_val = nums[0]\n",
        "    max_val = nums[0]\n",
        "\n",
        "    for i in range(1, len(nums)):\n",
        "        min_candidate = nums[i] - k\n",
        "        max_candidate = nums[i] + k\n",
        "        min_val = min(min_candidate, min_val)\n",
        "        max_val = max(max_candidate, max_val)\n",
        "\n",
        "    final_score = max_val - min_val\n",
        "    return final_score\n",
        "nums = [1]\n",
        "k = 0\n",
        "print(minimumScore(nums, k))"
      ],
      "metadata": {
        "colab": {
          "base_uri": "https://localhost:8080/"
        },
        "id": "3fMP-KW5R3iX",
        "outputId": "c0e7c334-de33-4975-b764-cf6b0551e733"
      },
      "execution_count": 30,
      "outputs": [
        {
          "output_type": "stream",
          "name": "stdout",
          "text": [
            "0\n"
          ]
        }
      ]
    }
  ]
}