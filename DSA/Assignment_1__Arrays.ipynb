{
  "nbformat": 4,
  "nbformat_minor": 0,
  "metadata": {
    "colab": {
      "provenance": []
    },
    "kernelspec": {
      "name": "python3",
      "display_name": "Python 3"
    },
    "language_info": {
      "name": "python"
    }
  },
  "cells": [
    {
      "cell_type": "markdown",
      "source": [
        "<aside>\n",
        " 💡 **Q1.** Given an array of integers nums and an integer target, return indices of the two numbers such that they add up to target.\n",
        "\n",
        "You may assume that each input would have exactly one solution, and you may not use the same element twice.\n",
        "\n",
        "You can return the answer in any order.\n",
        "\n",
        "**Example:**\n",
        "Input: nums = [2,7,11,15], target = 9\n",
        "Output0 [0,1]\n",
        "\n",
        "**Explanation:** Because nums[0] + nums[1] == 9, we return [0, 1][\n",
        "\n",
        "</aside>"
      ],
      "metadata": {
        "id": "iGsOueBz5eE0"
      }
    },
    {
      "cell_type": "code",
      "execution_count": 1,
      "metadata": {
        "colab": {
          "base_uri": "https://localhost:8080/"
        },
        "id": "7Ago326L4_1d",
        "outputId": "bac19e85-c137-4526-b1fc-cd2f695c0fe8"
      },
      "outputs": [
        {
          "output_type": "stream",
          "name": "stdout",
          "text": [
            "[0, 1]\n"
          ]
        }
      ],
      "source": [
        "def twoSum(nums, target):\n",
        "    for i in range(len(nums)):\n",
        "        for j in range(i + 1, len(nums)):\n",
        "            # checking  if the sum of nums[i] and nums[j] is equal to the target\n",
        "            if nums[i] + nums[j] == target:\n",
        "                return [i, j]\n",
        "    return []\n",
        "\n",
        "nums = [2, 7, 11, 15]\n",
        "target = 9\n",
        "result = twoSum(nums, target)\n",
        "print(result)"
      ]
    },
    {
      "cell_type": "markdown",
      "source": [
        "<aside>\n",
        "💡 **Q2.** Given an integer array nums and an integer val, remove all occurrences of val in nums in-place. The order of the elements may be changed. Then return the number of elements in nums which are not equal to val.\n",
        "\n",
        "Consider the number of elements in nums which are not equal to val be k, to get accepted, you need to do the following things:\n",
        "\n",
        "- Change the array nums such that the first k elements of nums contain the elements which are not equal to val. The remaining elements of nums are not important as well as the size of nums.\n",
        "- Return k.\n",
        "\n",
        "**Example :**\n",
        "Input: nums = [3,2,2,3], val = 3\n",
        "Output: 2, nums = [2,2,_*,_*]\n",
        "\n",
        "**Explanation:** Your function should return k = 2, with the first two elements of nums being 2. It does not matter what you leave beyond the returned k (hence they are underscores)[\n",
        "\n",
        "</aside>"
      ],
      "metadata": {
        "id": "bBnknFAZ9HEJ"
      }
    },
    {
      "cell_type": "code",
      "source": [
        "def remove_element(nums, val):\n",
        "    a = 0 \n",
        "    for i in range(len(nums)):\n",
        "        if nums[i] != val:\n",
        "            nums[a] = nums[i]\n",
        "            a += 1\n",
        "\n",
        "    return a\n",
        "\n",
        "nums = [3, 2, 2, 3]\n",
        "val = 3\n",
        "result = remove_element(nums, val)\n",
        "print(f\"Output: {result}, nums = {nums[:result]}\")\n"
      ],
      "metadata": {
        "colab": {
          "base_uri": "https://localhost:8080/"
        },
        "id": "rtUQ-O9777Sx",
        "outputId": "4ae2463e-bd04-4ebe-c521-ce0d8c0f9ebe"
      },
      "execution_count": 3,
      "outputs": [
        {
          "output_type": "stream",
          "name": "stdout",
          "text": [
            "Output: 2, nums = [2, 2]\n"
          ]
        }
      ]
    },
    {
      "cell_type": "markdown",
      "source": [
        "<aside>\n",
        "💡 **Q3.** Given a sorted array of distinct integers and a target value, return the index if the target is found. If not, return the index where it would be if it were inserted in order.\n",
        "\n",
        "You must write an algorithm with O(log n) runtime complexity.\n",
        "\n",
        "**Example 1:**\n",
        "Input: nums = [1,3,5,6], target = 5\n",
        "\n",
        "Output: 2\n",
        "\n",
        "</aside>"
      ],
      "metadata": {
        "id": "3yeXnxq7-j5A"
      }
    },
    {
      "cell_type": "code",
      "source": [
        "def search(nums, target):\n",
        "    left = 0\n",
        "    right = len(nums) - 1\n",
        "\n",
        "    while left <= right:\n",
        "        mid = (left + right) // 2\n",
        "\n",
        "        if nums[mid] == target:\n",
        "            return mid\n",
        "        elif nums[mid] < target:\n",
        "            left = mid + 1\n",
        "        else:\n",
        "            right = mid - 1\n",
        "\n",
        "    return left\n",
        "\n",
        "nums = [1, 3, 5, 6]\n",
        "target = 5\n",
        "result = search(nums, target)\n",
        "print(result)\n"
      ],
      "metadata": {
        "colab": {
          "base_uri": "https://localhost:8080/"
        },
        "id": "0hfRElmd-OFU",
        "outputId": "f34f400b-326a-4b75-c76d-3e027e1a82b9"
      },
      "execution_count": 4,
      "outputs": [
        {
          "output_type": "stream",
          "name": "stdout",
          "text": [
            "2\n"
          ]
        }
      ]
    },
    {
      "cell_type": "markdown",
      "source": [
        "<aside>\n",
        "💡 **Q4.** You are given a large integer represented as an integer array digits, where each digits[i] is the ith digit of the integer. The digits are ordered from most significant to least significant in left-to-right order. The large integer does not contain any leading 0's.\n",
        "\n",
        "Increment the large integer by one and return the resulting array of digits.\n",
        "\n",
        "**Example 1:**\n",
        "Input: digits = [1,2,3]\n",
        "Output: [1,2,4]\n",
        "\n",
        "**Explanation:** The array represents the integer 123.\n",
        "\n",
        "Incrementing by one gives 123 + 1 = 124.\n",
        "Thus, the result should be [1,2,4].\n",
        "\n",
        "</aside>"
      ],
      "metadata": {
        "id": "L0GjwZ4WCQJ9"
      }
    },
    {
      "cell_type": "code",
      "source": [
        "def increment_by_one(digits):\n",
        "  \n",
        "  carry = 1\n",
        "  for i in range(len(digits) - 1, -1, -1):\n",
        "    digits[i] += carry\n",
        "    carry = digits[i] // 10\n",
        "    digits[i] %= 10\n",
        "\n",
        "  if carry > 0:\n",
        "    digits.insert(0, carry)\n",
        "\n",
        "  return digits\n",
        "\n",
        "digits = [2, 3, 4]\n",
        "\n",
        "result = increment_by_one(digits)\n",
        "\n",
        "print(result)"
      ],
      "metadata": {
        "colab": {
          "base_uri": "https://localhost:8080/"
        },
        "id": "4Ct6IqrAAwcN",
        "outputId": "567546b5-b8ee-42ff-c184-929a5bdbde4a"
      },
      "execution_count": 8,
      "outputs": [
        {
          "output_type": "stream",
          "name": "stdout",
          "text": [
            "[2, 3, 5]\n"
          ]
        }
      ]
    },
    {
      "cell_type": "markdown",
      "source": [
        "<aside>\n",
        "💡 **Q5.** You are given two integer arrays nums1 and nums2, sorted in non-decreasing order, and two integers m and n, representing the number of elements in nums1 and nums2 respectively.\n",
        "\n",
        "Merge nums1 and nums2 into a single array sorted in non-decreasing order.\n",
        "\n",
        "The final sorted array should not be returned by the function, but instead be stored inside the array nums1. To accommodate this, nums1 has a length of m + n, where the first m elements denote the elements that should be merged, and the last n elements are set to 0 and should be ignored. nums2 has a length of n.\n",
        "\n",
        "**Example 1:**\n",
        "Input: nums1 = [1,2,3,0,0,0], m = 3, nums2 = [2,5,6], n = 3\n",
        "Output: [1,2,2,3,5,6]\n",
        "\n",
        "**Explanation:** The arrays we are merging are [1,2,3] and [2,5,6].\n",
        "The result of the merge is [1,2,2,3,5,6] with the underlined elements coming from nums1.\n",
        "\n",
        "</aside>"
      ],
      "metadata": {
        "id": "EiK7-6FuCazs"
      }
    },
    {
      "cell_type": "code",
      "source": [
        "def merge_sorted_arrays(nums1, m, nums2, n):\n",
        "\n",
        "  i = 0\n",
        "  j = 0\n",
        "\n",
        "  while i < m and j < n:\n",
        "    if nums1[i] <= nums2[j]:\n",
        "      nums1[i + j] = nums1[i]\n",
        "      i += 1\n",
        "    else:\n",
        "      nums1[i + j] = nums2[j]\n",
        "      j += 1\n",
        "\n",
        "  for k in range(i, m):\n",
        "    nums1[i + j] = nums1[k]\n",
        "    i += 1\n",
        "    \n",
        "  for k in range(j, n):\n",
        "    nums1[i + j] = nums2[k]\n",
        "    j += 1\n",
        "\n",
        "nums1 = [1, 2, 3, 0, 0, 0]\n",
        "m = 3\n",
        "nums2 = [2, 5, 6]\n",
        "n = 3\n",
        "\n",
        "merge_sorted_arrays(nums1, m, nums2, n)\n",
        "\n",
        "print(nums1)\n",
        "\n"
      ],
      "metadata": {
        "colab": {
          "base_uri": "https://localhost:8080/"
        },
        "id": "oTOSwd_PBtKr",
        "outputId": "354111d8-2537-46e2-8cd3-6477a057c7be"
      },
      "execution_count": 9,
      "outputs": [
        {
          "output_type": "stream",
          "name": "stdout",
          "text": [
            "[1, 2, 2, 2, 5, 6]\n"
          ]
        }
      ]
    },
    {
      "cell_type": "markdown",
      "source": [
        "<aside>\n",
        "💡 **Q6.** Given an integer array nums, return true if any value appears at least twice in the array, and return false if every element is distinct.\n",
        "\n",
        "**Example 1:**\n",
        "Input: nums = [1,2,3,1]\n",
        "\n",
        "Output: true\n",
        "\n",
        "</aside>"
      ],
      "metadata": {
        "id": "AHUIfW7BE2Oh"
      }
    },
    {
      "cell_type": "code",
      "source": [
        "def array_duplicate_check(nums):\n",
        "\n",
        "  store = set()\n",
        "\n",
        "  for num in nums:\n",
        "    if num in store:\n",
        "      return True\n",
        "    store.add(num)\n",
        "\n",
        "  return False\n",
        "\n",
        "nums = [1, 2, 3, 1]\n",
        "\n",
        "print(array_duplicate_check(nums))\n"
      ],
      "metadata": {
        "colab": {
          "base_uri": "https://localhost:8080/"
        },
        "id": "2JWae9N0EkC_",
        "outputId": "63750108-bf9a-4bf4-f656-5f1a657733c2"
      },
      "execution_count": 13,
      "outputs": [
        {
          "output_type": "stream",
          "name": "stdout",
          "text": [
            "True\n"
          ]
        }
      ]
    },
    {
      "cell_type": "markdown",
      "source": [
        "<aside>\n",
        "💡 **Q7.** Given an integer array nums, move all 0's to the end of it while maintaining the relative order of the nonzero elements.\n",
        "\n",
        "Note that you must do this in-place without making a copy of the array.\n",
        "\n",
        "**Example 1:**\n",
        "Input: nums = [0,1,0,3,12]\n",
        "Output: [1,3,12,0,0]\n",
        "\n",
        "</aside>"
      ],
      "metadata": {
        "id": "OHXPlHYZFiK5"
      }
    },
    {
      "cell_type": "code",
      "source": [
        "def move_zeros_to_end(nums):\n",
        "    init_position = 0\n",
        "    \n",
        "    for i in range(len(nums)):\n",
        "        if nums[i] != 0:\n",
        "            nums[init_position], nums[i] = nums[i], nums[init_position]\n",
        "            init_position += 1\n",
        "\n",
        "nums = [0, 1, 0, 3, 12]\n",
        "move_zeros_to_end(nums)\n",
        "print(nums)\n"
      ],
      "metadata": {
        "colab": {
          "base_uri": "https://localhost:8080/"
        },
        "id": "PbWETsxNFTFH",
        "outputId": "cc130d2d-8bbe-47d5-8c9c-3a6ad3ba9092"
      },
      "execution_count": 14,
      "outputs": [
        {
          "output_type": "stream",
          "name": "stdout",
          "text": [
            "[1, 3, 12, 0, 0]\n"
          ]
        }
      ]
    },
    {
      "cell_type": "markdown",
      "source": [
        "<aside>\n",
        "💡 **Q8.** You have a set of integers s, which originally contains all the numbers from 1 to n. Unfortunately, due to some error, one of the numbers in s got duplicated to another number in the set, which results in repetition of one number and loss of another number.\n",
        "\n",
        "You are given an integer array nums representing the data status of this set after the error.\n",
        "\n",
        "Find the number that occurs twice and the number that is missing and return them in the form of an array.\n",
        "\n",
        "**Example 1:**\n",
        "Input: nums = [1,2,2,4]\n",
        "Output: [2,3]\n",
        "\n",
        "</aside>"
      ],
      "metadata": {
        "id": "lGq337bPGVC4"
      }
    },
    {
      "cell_type": "code",
      "source": [
        "def find_error_nums(nums):\n",
        "    n = len(nums)\n",
        "    nums_set = set(nums)\n",
        "    duplicate = sum(nums) - sum(nums_set)\n",
        "    missing = (n * (n + 1)) // 2 - sum(nums_set)\n",
        "    return [duplicate, missing]\n",
        "\n",
        "nums = [1, 2, 2, 4]\n",
        "result = find_error_nums(nums)\n",
        "print(result)\n"
      ],
      "metadata": {
        "colab": {
          "base_uri": "https://localhost:8080/"
        },
        "id": "1jMDq3VOGPaX",
        "outputId": "c0bc9fe4-1ecb-4c5f-ee2d-97a458efff2c"
      },
      "execution_count": 17,
      "outputs": [
        {
          "output_type": "stream",
          "name": "stdout",
          "text": [
            "[2, 3]\n"
          ]
        }
      ]
    },
    {
      "cell_type": "code",
      "source": [],
      "metadata": {
        "id": "zq-bBaYzHWBI"
      },
      "execution_count": null,
      "outputs": []
    }
  ]
}